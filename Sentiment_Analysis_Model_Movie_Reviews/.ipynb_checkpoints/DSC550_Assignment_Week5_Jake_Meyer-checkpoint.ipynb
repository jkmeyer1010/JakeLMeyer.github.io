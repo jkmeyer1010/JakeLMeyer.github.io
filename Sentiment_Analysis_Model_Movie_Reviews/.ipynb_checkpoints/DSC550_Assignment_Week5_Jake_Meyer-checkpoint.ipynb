{
 "cells": [
  {
   "cell_type": "markdown",
   "id": "2ec94498",
   "metadata": {},
   "source": [
    "# DCS 550 Data Mining (DSC550-T302 2227-1)\n",
    "## Bellevue University\n",
    "## 5.2 Exercise: Build your own Sentiment Analysis Model\n",
    "## Author: Jake Meyer\n",
    "## Date: 07/10/2022"
   ]
  },
  {
   "cell_type": "markdown",
   "id": "86b7c8f0",
   "metadata": {},
   "source": [
    "## Assignment Instructions:\n",
    "Download the labeled training dataset from this link: [Bag of Words Meets Bags of Popcorn.](https://www.kaggle.com/c/word2vec-nlp-tutorial/data)"
   ]
  },
  {
   "cell_type": "markdown",
   "id": "57f93c06",
   "metadata": {},
   "source": [
    "<ol>\n",
    "    <li> Get the stemmed data using the same process you did in Week 3.\n",
    "    <li> Split this into a training and test set.\n",
    "    <li> Fit and apply the tf-idf vectorization to the training set.\n",
    "    <li> Apply bud DO NOT FIT the tf-idf vectorization to the test set (Why?)\n",
    "    <li> Train a logistic regression using the training data.\n",
    "    <li> Find the model accuracy on the test set.\n",
    "    <li> Create a confusion matrix for the test set predictions.\n",
    "    <li> Get the precision, recall, and F1-score for the test set predictions.\n",
    "    <li> Create a ROC curve for the test set.\n",
    "    <li> Pick another classification model you learned about this week and repeat steps (5) - (9).\n",
    "<ol>"
   ]
  },
  {
   "cell_type": "code",
   "execution_count": 1,
   "id": "100aa90d",
   "metadata": {},
   "outputs": [],
   "source": [
    "'''\n",
    "Install the required packages (if necessary) to complete the assignment for Week 5.\n",
    "Commented out the required installations since already installed for Week 3.\n",
    "'''\n",
    "import sys\n",
    "# !{sys.executable} -m pip install -U textblob\n",
    "# !{sys.executable} -m pip install nltk\n",
    "# !{sys.executable} -m pip install vaderSentiment\n",
    "# !{sys.executable} -m pip install neattext"
   ]
  },
  {
   "cell_type": "code",
   "execution_count": 80,
   "id": "6452c85f",
   "metadata": {},
   "outputs": [
    {
     "name": "stderr",
     "output_type": "stream",
     "text": [
      "[nltk_data] Downloading package stopwords to\n",
      "[nltk_data]     C:\\Users\\jkmey\\AppData\\Roaming\\nltk_data...\n",
      "[nltk_data]   Package stopwords is already up-to-date!\n"
     ]
    }
   ],
   "source": [
    "'''\n",
    "Import the necessary libraries to complete Exercise 5.2.\n",
    "'''\n",
    "import numpy as np\n",
    "import pandas as pd\n",
    "import textblob\n",
    "import nltk\n",
    "import nltk.corpus\n",
    "import vaderSentiment\n",
    "import unicodedata\n",
    "import string\n",
    "import re\n",
    "import neattext as nt\n",
    "import neattext.functions as nfx\n",
    "import seaborn as sns\n",
    "from matplotlib import pyplot as plt\n",
    "from textblob import TextBlob, Word, Blobber\n",
    "from textblob.classifiers import NaiveBayesClassifier\n",
    "from textblob.taggers import NLTKTagger\n",
    "from vaderSentiment.vaderSentiment import SentimentIntensityAnalyzer\n",
    "from nltk.corpus import stopwords\n",
    "nltk.download('stopwords')\n",
    "from nltk.tokenize import word_tokenize\n",
    "from nltk.stem.porter import *\n",
    "from nltk.stem.wordnet import WordNetLemmatizer\n",
    "from string import punctuation, printable, digits\n",
    "from sklearn import metrics\n",
    "from sklearn.naive_bayes import MultinomialNB\n",
    "from sklearn.metrics import roc_auc_score\n",
    "from sklearn.metrics import confusion_matrix\n",
    "from sklearn.metrics import precision_score, recall_score, f1_score\n",
    "from sklearn.feature_extraction import DictVectorizer\n",
    "from sklearn.feature_extraction.text import CountVectorizer\n",
    "from sklearn.feature_extraction.text import TfidfVectorizer\n",
    "from sklearn.model_selection import train_test_split\n",
    "from sklearn.linear_model import LogisticRegression"
   ]
  },
  {
   "cell_type": "code",
   "execution_count": 3,
   "id": "289b853c",
   "metadata": {},
   "outputs": [
    {
     "name": "stdout",
     "output_type": "stream",
     "text": [
      "numpy version: 1.20.3\n",
      "pandas version: 1.3.4\n",
      "textblob version: 0.17.1\n",
      "nltk version: 3.6.5\n"
     ]
    }
   ],
   "source": [
    "'''\n",
    "Check the versions of the packages.\n",
    "'''\n",
    "print('numpy version:', np.__version__)\n",
    "print('pandas version:', pd.__version__)\n",
    "print('textblob version:', textblob.__version__)\n",
    "print('nltk version:', nltk.__version__)"
   ]
  },
  {
   "cell_type": "markdown",
   "id": "1355b653",
   "metadata": {},
   "source": [
    "## Part 1: Get the stemmed data using the same process you did in Week 3."
   ]
  },
  {
   "cell_type": "markdown",
   "id": "4ea91e5e",
   "metadata": {},
   "source": [
    "### Part 1.1 - Import the movie data as a data frame and ensure that the data is loaded properly."
   ]
  },
  {
   "cell_type": "code",
   "execution_count": 4,
   "id": "e4a6abca",
   "metadata": {},
   "outputs": [],
   "source": [
    "'''\n",
    "Section 1.1 - Import Data\n",
    "Import the movie review data from labeledTrainData.tsv.\n",
    "Note: A copy of the TSV file was placed into the same directory as this notebook.\n",
    "Utilize pd.read_table() to read the tsv file as a pandas data frame. (tab seperated value file)\n",
    "'''\n",
    "df = pd.read_table('labeledTrainData.tsv')"
   ]
  },
  {
   "cell_type": "code",
   "execution_count": 5,
   "id": "8b646165",
   "metadata": {},
   "outputs": [
    {
     "data": {
      "text/html": [
       "<div>\n",
       "<style scoped>\n",
       "    .dataframe tbody tr th:only-of-type {\n",
       "        vertical-align: middle;\n",
       "    }\n",
       "\n",
       "    .dataframe tbody tr th {\n",
       "        vertical-align: top;\n",
       "    }\n",
       "\n",
       "    .dataframe thead th {\n",
       "        text-align: right;\n",
       "    }\n",
       "</style>\n",
       "<table border=\"1\" class=\"dataframe\">\n",
       "  <thead>\n",
       "    <tr style=\"text-align: right;\">\n",
       "      <th></th>\n",
       "      <th>id</th>\n",
       "      <th>sentiment</th>\n",
       "      <th>review</th>\n",
       "    </tr>\n",
       "  </thead>\n",
       "  <tbody>\n",
       "    <tr>\n",
       "      <th>0</th>\n",
       "      <td>5814_8</td>\n",
       "      <td>1</td>\n",
       "      <td>With all this stuff going down at the moment w...</td>\n",
       "    </tr>\n",
       "    <tr>\n",
       "      <th>1</th>\n",
       "      <td>2381_9</td>\n",
       "      <td>1</td>\n",
       "      <td>\\The Classic War of the Worlds\\\" by Timothy Hi...</td>\n",
       "    </tr>\n",
       "    <tr>\n",
       "      <th>2</th>\n",
       "      <td>7759_3</td>\n",
       "      <td>0</td>\n",
       "      <td>The film starts with a manager (Nicholas Bell)...</td>\n",
       "    </tr>\n",
       "    <tr>\n",
       "      <th>3</th>\n",
       "      <td>3630_4</td>\n",
       "      <td>0</td>\n",
       "      <td>It must be assumed that those who praised this...</td>\n",
       "    </tr>\n",
       "    <tr>\n",
       "      <th>4</th>\n",
       "      <td>9495_8</td>\n",
       "      <td>1</td>\n",
       "      <td>Superbly trashy and wondrously unpretentious 8...</td>\n",
       "    </tr>\n",
       "  </tbody>\n",
       "</table>\n",
       "</div>"
      ],
      "text/plain": [
       "       id  sentiment                                             review\n",
       "0  5814_8          1  With all this stuff going down at the moment w...\n",
       "1  2381_9          1  \\The Classic War of the Worlds\\\" by Timothy Hi...\n",
       "2  7759_3          0  The film starts with a manager (Nicholas Bell)...\n",
       "3  3630_4          0  It must be assumed that those who praised this...\n",
       "4  9495_8          1  Superbly trashy and wondrously unpretentious 8..."
      ]
     },
     "execution_count": 5,
     "metadata": {},
     "output_type": "execute_result"
    }
   ],
   "source": [
    "'''\n",
    "Show the data has been loaded successfully into the data frame \n",
    "by printing the first 5 rows with head().\n",
    "'''\n",
    "df.head()"
   ]
  },
  {
   "cell_type": "code",
   "execution_count": 6,
   "id": "aaf837f0",
   "metadata": {},
   "outputs": [
    {
     "name": "stdout",
     "output_type": "stream",
     "text": [
      "There are 25000 rows and 3 columns in this data frame.\n"
     ]
    }
   ],
   "source": [
    "'''\n",
    "Understand the shape of the dataframe.\n",
    "'''\n",
    "print('There are {} rows and {} columns in this data frame.'.format(df.shape[0], df.shape[1]))"
   ]
  },
  {
   "cell_type": "code",
   "execution_count": 7,
   "id": "8348d65a",
   "metadata": {},
   "outputs": [
    {
     "name": "stdout",
     "output_type": "stream",
     "text": [
      "This data frame contains 75000 records.\n"
     ]
    }
   ],
   "source": [
    "'''\n",
    "Display the total size of this data frame.\n",
    "'''\n",
    "print('This data frame contains {} records.'.format(df.size))"
   ]
  },
  {
   "cell_type": "code",
   "execution_count": 8,
   "id": "0b8e30fd",
   "metadata": {},
   "outputs": [
    {
     "data": {
      "text/plain": [
       "id           0\n",
       "sentiment    0\n",
       "review       0\n",
       "dtype: int64"
      ]
     },
     "execution_count": 8,
     "metadata": {},
     "output_type": "execute_result"
    }
   ],
   "source": [
    "'''\n",
    "Understand if there are any missing values in the data frame.\n",
    "'''\n",
    "df.isna().sum()"
   ]
  },
  {
   "cell_type": "markdown",
   "id": "cc64c0ec",
   "metadata": {},
   "source": [
    "### Part 1.2 - How many of each positive and negative reviews are there?"
   ]
  },
  {
   "cell_type": "code",
   "execution_count": 9,
   "id": "78710ba0",
   "metadata": {},
   "outputs": [
    {
     "data": {
      "text/plain": [
       "1    12500\n",
       "0    12500\n",
       "Name: sentiment, dtype: int64"
      ]
     },
     "execution_count": 9,
     "metadata": {},
     "output_type": "execute_result"
    }
   ],
   "source": [
    "'''\n",
    "Section 1.2 - Understand how many positive or negative reviews exist.\n",
    "Use value_counts() to find the number of sentiments classified as 1 (Postive) or 0 (Negative).\n",
    "'''\n",
    "df['sentiment'].value_counts()"
   ]
  },
  {
   "cell_type": "markdown",
   "id": "7c57f29c",
   "metadata": {},
   "source": [
    "There are 12500 positive reviews and 12500 negative reviews based on the output shown above."
   ]
  },
  {
   "cell_type": "markdown",
   "id": "558df541",
   "metadata": {},
   "source": [
    "### Part 1.3 - Convert all text to lowercase letters."
   ]
  },
  {
   "cell_type": "code",
   "execution_count": 10,
   "id": "9b9266a0",
   "metadata": {},
   "outputs": [],
   "source": [
    "'''\n",
    "Create a function to make text lowercase.\n",
    "'''\n",
    "def lower(string:str):\n",
    "    return string.lower()"
   ]
  },
  {
   "cell_type": "code",
   "execution_count": 11,
   "id": "24188488",
   "metadata": {},
   "outputs": [
    {
     "data": {
      "text/html": [
       "<div>\n",
       "<style scoped>\n",
       "    .dataframe tbody tr th:only-of-type {\n",
       "        vertical-align: middle;\n",
       "    }\n",
       "\n",
       "    .dataframe tbody tr th {\n",
       "        vertical-align: top;\n",
       "    }\n",
       "\n",
       "    .dataframe thead th {\n",
       "        text-align: right;\n",
       "    }\n",
       "</style>\n",
       "<table border=\"1\" class=\"dataframe\">\n",
       "  <thead>\n",
       "    <tr style=\"text-align: right;\">\n",
       "      <th></th>\n",
       "      <th>id</th>\n",
       "      <th>sentiment</th>\n",
       "      <th>review</th>\n",
       "    </tr>\n",
       "  </thead>\n",
       "  <tbody>\n",
       "    <tr>\n",
       "      <th>0</th>\n",
       "      <td>5814_8</td>\n",
       "      <td>1</td>\n",
       "      <td>with all this stuff going down at the moment w...</td>\n",
       "    </tr>\n",
       "    <tr>\n",
       "      <th>1</th>\n",
       "      <td>2381_9</td>\n",
       "      <td>1</td>\n",
       "      <td>\\the classic war of the worlds\\\" by timothy hi...</td>\n",
       "    </tr>\n",
       "    <tr>\n",
       "      <th>2</th>\n",
       "      <td>7759_3</td>\n",
       "      <td>0</td>\n",
       "      <td>the film starts with a manager (nicholas bell)...</td>\n",
       "    </tr>\n",
       "    <tr>\n",
       "      <th>3</th>\n",
       "      <td>3630_4</td>\n",
       "      <td>0</td>\n",
       "      <td>it must be assumed that those who praised this...</td>\n",
       "    </tr>\n",
       "    <tr>\n",
       "      <th>4</th>\n",
       "      <td>9495_8</td>\n",
       "      <td>1</td>\n",
       "      <td>superbly trashy and wondrously unpretentious 8...</td>\n",
       "    </tr>\n",
       "  </tbody>\n",
       "</table>\n",
       "</div>"
      ],
      "text/plain": [
       "       id  sentiment                                             review\n",
       "0  5814_8          1  with all this stuff going down at the moment w...\n",
       "1  2381_9          1  \\the classic war of the worlds\\\" by timothy hi...\n",
       "2  7759_3          0  the film starts with a manager (nicholas bell)...\n",
       "3  3630_4          0  it must be assumed that those who praised this...\n",
       "4  9495_8          1  superbly trashy and wondrously unpretentious 8..."
      ]
     },
     "execution_count": 11,
     "metadata": {},
     "output_type": "execute_result"
    }
   ],
   "source": [
    "'''\n",
    "Convert the reviews to lowercase using the .str.lower() command.\n",
    "Show the first 5 rows of df_prep to confirm the lowercase correction.\n",
    "'''\n",
    "df['review'] = df['review'].apply(lambda d:lower(d))\n",
    "df.head()"
   ]
  },
  {
   "cell_type": "markdown",
   "id": "a60b473e",
   "metadata": {},
   "source": [
    "### Part 1.4 - Remove punctuation and special characters from the text."
   ]
  },
  {
   "cell_type": "code",
   "execution_count": 12,
   "id": "56db44fe",
   "metadata": {},
   "outputs": [],
   "source": [
    "'''\n",
    "Section 1.4 - Remove punctuation and special characters from the text.\n",
    "Write a function that will use translate to remove punctuation.\n",
    "'''\n",
    "def remove_punctuation(string: str, repl: str = '') -> str:\n",
    "    return string.translate(str.maketrans('', '', punctuation))"
   ]
  },
  {
   "cell_type": "code",
   "execution_count": 13,
   "id": "b1fee97a",
   "metadata": {},
   "outputs": [],
   "source": [
    "'''\n",
    "Use apply() to remove punctuation for the 'review' column in df\n",
    "based on the remove_punctuation() function from above.\n",
    "'''\n",
    "df['review'] = df['review'].apply(remove_punctuation)"
   ]
  },
  {
   "cell_type": "code",
   "execution_count": 14,
   "id": "b52c8084",
   "metadata": {},
   "outputs": [
    {
     "data": {
      "text/plain": [
       "'the first time you see the second renaissance it may look boring look at it at least twice and definitely watch part 2 it will change your view of the matrix are the human people the ones who started the war  is ai a bad thing '"
      ]
     },
     "execution_count": 14,
     "metadata": {},
     "output_type": "execute_result"
    }
   ],
   "source": [
    "'''\n",
    "Check that the punctuation has been removed from a random review in df.\n",
    "'''\n",
    "df['review'][104]"
   ]
  },
  {
   "cell_type": "code",
   "execution_count": 15,
   "id": "2f3caf4e",
   "metadata": {},
   "outputs": [
    {
     "data": {
      "text/html": [
       "<div>\n",
       "<style scoped>\n",
       "    .dataframe tbody tr th:only-of-type {\n",
       "        vertical-align: middle;\n",
       "    }\n",
       "\n",
       "    .dataframe tbody tr th {\n",
       "        vertical-align: top;\n",
       "    }\n",
       "\n",
       "    .dataframe thead th {\n",
       "        text-align: right;\n",
       "    }\n",
       "</style>\n",
       "<table border=\"1\" class=\"dataframe\">\n",
       "  <thead>\n",
       "    <tr style=\"text-align: right;\">\n",
       "      <th></th>\n",
       "      <th>id</th>\n",
       "      <th>sentiment</th>\n",
       "      <th>review</th>\n",
       "    </tr>\n",
       "  </thead>\n",
       "  <tbody>\n",
       "    <tr>\n",
       "      <th>0</th>\n",
       "      <td>5814_8</td>\n",
       "      <td>1</td>\n",
       "      <td>with all this stuff going down at the moment w...</td>\n",
       "    </tr>\n",
       "    <tr>\n",
       "      <th>1</th>\n",
       "      <td>2381_9</td>\n",
       "      <td>1</td>\n",
       "      <td>the classic war of the worlds by timothy hines...</td>\n",
       "    </tr>\n",
       "    <tr>\n",
       "      <th>2</th>\n",
       "      <td>7759_3</td>\n",
       "      <td>0</td>\n",
       "      <td>the film starts with a manager nicholas bell g...</td>\n",
       "    </tr>\n",
       "    <tr>\n",
       "      <th>3</th>\n",
       "      <td>3630_4</td>\n",
       "      <td>0</td>\n",
       "      <td>it must be assumed that those who praised this...</td>\n",
       "    </tr>\n",
       "    <tr>\n",
       "      <th>4</th>\n",
       "      <td>9495_8</td>\n",
       "      <td>1</td>\n",
       "      <td>superbly trashy and wondrously unpretentious 8...</td>\n",
       "    </tr>\n",
       "  </tbody>\n",
       "</table>\n",
       "</div>"
      ],
      "text/plain": [
       "       id  sentiment                                             review\n",
       "0  5814_8          1  with all this stuff going down at the moment w...\n",
       "1  2381_9          1  the classic war of the worlds by timothy hines...\n",
       "2  7759_3          0  the film starts with a manager nicholas bell g...\n",
       "3  3630_4          0  it must be assumed that those who praised this...\n",
       "4  9495_8          1  superbly trashy and wondrously unpretentious 8..."
      ]
     },
     "execution_count": 15,
     "metadata": {},
     "output_type": "execute_result"
    }
   ],
   "source": [
    "'''\n",
    "Show the first five rows of df after lowercase and punctuation removal were applied.\n",
    "'''\n",
    "df.head()"
   ]
  },
  {
   "cell_type": "code",
   "execution_count": 16,
   "id": "46a42114",
   "metadata": {},
   "outputs": [],
   "source": [
    "'''\n",
    "Create function to limit the text to only alpha characters.\n",
    "'''\n",
    "def alpha_char(raw_reviews):\n",
    "    letters_only = re.sub(\"[^a-zA-Z]\", \" \", raw_reviews)\n",
    "    return letters_only"
   ]
  },
  {
   "cell_type": "code",
   "execution_count": 17,
   "id": "ba5b5124",
   "metadata": {},
   "outputs": [],
   "source": [
    "'''\n",
    "Use apply() to remove numeric characters for the 'review' column in df\n",
    "based on the alpha_char() function from above.\n",
    "'''\n",
    "df['review'] = df['review'].apply(alpha_char)"
   ]
  },
  {
   "cell_type": "code",
   "execution_count": 18,
   "id": "03f78c58",
   "metadata": {},
   "outputs": [
    {
     "data": {
      "text/plain": [
       "'the first time you see the second renaissance it may look boring look at it at least twice and definitely watch part   it will change your view of the matrix are the human people the ones who started the war  is ai a bad thing '"
      ]
     },
     "execution_count": 18,
     "metadata": {},
     "output_type": "execute_result"
    }
   ],
   "source": [
    "'''\n",
    "Check that the special characters have been removed from a random review in df.\n",
    "'''\n",
    "df['review'][104]"
   ]
  },
  {
   "cell_type": "markdown",
   "id": "ba1ad25e",
   "metadata": {},
   "source": [
    "### Part 1.5 - Remove stop words."
   ]
  },
  {
   "cell_type": "code",
   "execution_count": 19,
   "id": "b7f6c996",
   "metadata": {},
   "outputs": [
    {
     "data": {
      "text/plain": [
       "['i', 'me', 'my', 'myself', 'we', 'our', 'ours', 'ourselves', 'you', \"you're\"]"
      ]
     },
     "execution_count": 19,
     "metadata": {},
     "output_type": "execute_result"
    }
   ],
   "source": [
    "'''\n",
    "Section 1.5 - Remove stop words.\n",
    "Show the list of stop_words pulled in from nltk package.\n",
    "'''\n",
    "stop_words = stopwords.words(\"english\")\n",
    "stop_words[0:10]"
   ]
  },
  {
   "cell_type": "code",
   "execution_count": 20,
   "id": "bf7fba25",
   "metadata": {},
   "outputs": [],
   "source": [
    "'''\n",
    "Now tokenize the review data. Create a function to tokenize the text from the reviews.\n",
    "'''\n",
    "def tokenize_words(string):\n",
    "    return word_tokenize(string)"
   ]
  },
  {
   "cell_type": "code",
   "execution_count": 21,
   "id": "5d5544cb",
   "metadata": {},
   "outputs": [],
   "source": [
    "'''\n",
    "Apply the tokenize_words function to the df_prep['review'] column.\n",
    "'''\n",
    "df['review'] = df['review'].apply(tokenize_words)"
   ]
  },
  {
   "cell_type": "code",
   "execution_count": 22,
   "id": "beca17e8",
   "metadata": {},
   "outputs": [
    {
     "data": {
      "text/html": [
       "<div>\n",
       "<style scoped>\n",
       "    .dataframe tbody tr th:only-of-type {\n",
       "        vertical-align: middle;\n",
       "    }\n",
       "\n",
       "    .dataframe tbody tr th {\n",
       "        vertical-align: top;\n",
       "    }\n",
       "\n",
       "    .dataframe thead th {\n",
       "        text-align: right;\n",
       "    }\n",
       "</style>\n",
       "<table border=\"1\" class=\"dataframe\">\n",
       "  <thead>\n",
       "    <tr style=\"text-align: right;\">\n",
       "      <th></th>\n",
       "      <th>id</th>\n",
       "      <th>sentiment</th>\n",
       "      <th>review</th>\n",
       "    </tr>\n",
       "  </thead>\n",
       "  <tbody>\n",
       "    <tr>\n",
       "      <th>0</th>\n",
       "      <td>5814_8</td>\n",
       "      <td>1</td>\n",
       "      <td>[with, all, this, stuff, going, down, at, the,...</td>\n",
       "    </tr>\n",
       "    <tr>\n",
       "      <th>1</th>\n",
       "      <td>2381_9</td>\n",
       "      <td>1</td>\n",
       "      <td>[the, classic, war, of, the, worlds, by, timot...</td>\n",
       "    </tr>\n",
       "    <tr>\n",
       "      <th>2</th>\n",
       "      <td>7759_3</td>\n",
       "      <td>0</td>\n",
       "      <td>[the, film, starts, with, a, manager, nicholas...</td>\n",
       "    </tr>\n",
       "    <tr>\n",
       "      <th>3</th>\n",
       "      <td>3630_4</td>\n",
       "      <td>0</td>\n",
       "      <td>[it, must, be, assumed, that, those, who, prai...</td>\n",
       "    </tr>\n",
       "    <tr>\n",
       "      <th>4</th>\n",
       "      <td>9495_8</td>\n",
       "      <td>1</td>\n",
       "      <td>[superbly, trashy, and, wondrously, unpretenti...</td>\n",
       "    </tr>\n",
       "  </tbody>\n",
       "</table>\n",
       "</div>"
      ],
      "text/plain": [
       "       id  sentiment                                             review\n",
       "0  5814_8          1  [with, all, this, stuff, going, down, at, the,...\n",
       "1  2381_9          1  [the, classic, war, of, the, worlds, by, timot...\n",
       "2  7759_3          0  [the, film, starts, with, a, manager, nicholas...\n",
       "3  3630_4          0  [it, must, be, assumed, that, those, who, prai...\n",
       "4  9495_8          1  [superbly, trashy, and, wondrously, unpretenti..."
      ]
     },
     "execution_count": 22,
     "metadata": {},
     "output_type": "execute_result"
    }
   ],
   "source": [
    "'''\n",
    "View the first 5 rows of df['review'] to see the tokenized text.\n",
    "'''\n",
    "df.head()"
   ]
  },
  {
   "cell_type": "code",
   "execution_count": 23,
   "id": "4703b914",
   "metadata": {},
   "outputs": [],
   "source": [
    "'''\n",
    "Create a function to remove stop words.\n",
    "'''\n",
    "def remove_stop_words(raw_review):\n",
    "    cleaned_words = [w for w in raw_review if w not in stop_words]\n",
    "    return cleaned_words"
   ]
  },
  {
   "cell_type": "code",
   "execution_count": 24,
   "id": "c050e59c",
   "metadata": {},
   "outputs": [
    {
     "data": {
      "text/html": [
       "<div>\n",
       "<style scoped>\n",
       "    .dataframe tbody tr th:only-of-type {\n",
       "        vertical-align: middle;\n",
       "    }\n",
       "\n",
       "    .dataframe tbody tr th {\n",
       "        vertical-align: top;\n",
       "    }\n",
       "\n",
       "    .dataframe thead th {\n",
       "        text-align: right;\n",
       "    }\n",
       "</style>\n",
       "<table border=\"1\" class=\"dataframe\">\n",
       "  <thead>\n",
       "    <tr style=\"text-align: right;\">\n",
       "      <th></th>\n",
       "      <th>id</th>\n",
       "      <th>sentiment</th>\n",
       "      <th>review</th>\n",
       "    </tr>\n",
       "  </thead>\n",
       "  <tbody>\n",
       "    <tr>\n",
       "      <th>0</th>\n",
       "      <td>5814_8</td>\n",
       "      <td>1</td>\n",
       "      <td>[stuff, going, moment, mj, ive, started, liste...</td>\n",
       "    </tr>\n",
       "    <tr>\n",
       "      <th>1</th>\n",
       "      <td>2381_9</td>\n",
       "      <td>1</td>\n",
       "      <td>[classic, war, worlds, timothy, hines, enterta...</td>\n",
       "    </tr>\n",
       "    <tr>\n",
       "      <th>2</th>\n",
       "      <td>7759_3</td>\n",
       "      <td>0</td>\n",
       "      <td>[film, starts, manager, nicholas, bell, giving...</td>\n",
       "    </tr>\n",
       "    <tr>\n",
       "      <th>3</th>\n",
       "      <td>3630_4</td>\n",
       "      <td>0</td>\n",
       "      <td>[must, assumed, praised, film, greatest, filme...</td>\n",
       "    </tr>\n",
       "    <tr>\n",
       "      <th>4</th>\n",
       "      <td>9495_8</td>\n",
       "      <td>1</td>\n",
       "      <td>[superbly, trashy, wondrously, unpretentious, ...</td>\n",
       "    </tr>\n",
       "  </tbody>\n",
       "</table>\n",
       "</div>"
      ],
      "text/plain": [
       "       id  sentiment                                             review\n",
       "0  5814_8          1  [stuff, going, moment, mj, ive, started, liste...\n",
       "1  2381_9          1  [classic, war, worlds, timothy, hines, enterta...\n",
       "2  7759_3          0  [film, starts, manager, nicholas, bell, giving...\n",
       "3  3630_4          0  [must, assumed, praised, film, greatest, filme...\n",
       "4  9495_8          1  [superbly, trashy, wondrously, unpretentious, ..."
      ]
     },
     "execution_count": 24,
     "metadata": {},
     "output_type": "execute_result"
    }
   ],
   "source": [
    "'''\n",
    "Apply the remove_stop_words() function to the review column from df.\n",
    "Verify the stop words were removed by viewing the first 5 rows of df.\n",
    "'''\n",
    "df['review'] = df['review'].apply(remove_stop_words)\n",
    "df.head()"
   ]
  },
  {
   "cell_type": "markdown",
   "id": "451f439e",
   "metadata": {},
   "source": [
    "### Part 1.6 - Apply NLTK's PorterStemmer."
   ]
  },
  {
   "cell_type": "code",
   "execution_count": 25,
   "id": "a8a6bc7d",
   "metadata": {},
   "outputs": [],
   "source": [
    "'''\n",
    "Section 1.6 - Apply NLTK's PorterStemmer.\n",
    "Start by creating the stemmer.\n",
    "'''\n",
    "porter = PorterStemmer()"
   ]
  },
  {
   "cell_type": "code",
   "execution_count": 26,
   "id": "db79924b",
   "metadata": {},
   "outputs": [],
   "source": [
    "'''\n",
    "Create a function that will apply the porterstemmer function from NLTK.\n",
    "'''\n",
    "def porter_stemmer(reviews):\n",
    "    stemmed_words = [porter.stem(word) for word in reviews]\n",
    "    return \" \".join(stemmed_words)"
   ]
  },
  {
   "cell_type": "code",
   "execution_count": 27,
   "id": "45870147",
   "metadata": {},
   "outputs": [
    {
     "data": {
      "text/html": [
       "<div>\n",
       "<style scoped>\n",
       "    .dataframe tbody tr th:only-of-type {\n",
       "        vertical-align: middle;\n",
       "    }\n",
       "\n",
       "    .dataframe tbody tr th {\n",
       "        vertical-align: top;\n",
       "    }\n",
       "\n",
       "    .dataframe thead th {\n",
       "        text-align: right;\n",
       "    }\n",
       "</style>\n",
       "<table border=\"1\" class=\"dataframe\">\n",
       "  <thead>\n",
       "    <tr style=\"text-align: right;\">\n",
       "      <th></th>\n",
       "      <th>id</th>\n",
       "      <th>sentiment</th>\n",
       "      <th>review</th>\n",
       "    </tr>\n",
       "  </thead>\n",
       "  <tbody>\n",
       "    <tr>\n",
       "      <th>0</th>\n",
       "      <td>5814_8</td>\n",
       "      <td>1</td>\n",
       "      <td>stuff go moment mj ive start listen music watc...</td>\n",
       "    </tr>\n",
       "    <tr>\n",
       "      <th>1</th>\n",
       "      <td>2381_9</td>\n",
       "      <td>1</td>\n",
       "      <td>classic war world timothi hine entertain film ...</td>\n",
       "    </tr>\n",
       "    <tr>\n",
       "      <th>2</th>\n",
       "      <td>7759_3</td>\n",
       "      <td>0</td>\n",
       "      <td>film start manag nichola bell give welcom inve...</td>\n",
       "    </tr>\n",
       "    <tr>\n",
       "      <th>3</th>\n",
       "      <td>3630_4</td>\n",
       "      <td>0</td>\n",
       "      <td>must assum prais film greatest film opera ever...</td>\n",
       "    </tr>\n",
       "    <tr>\n",
       "      <th>4</th>\n",
       "      <td>9495_8</td>\n",
       "      <td>1</td>\n",
       "      <td>superbl trashi wondrous unpretenti exploit hoo...</td>\n",
       "    </tr>\n",
       "  </tbody>\n",
       "</table>\n",
       "</div>"
      ],
      "text/plain": [
       "       id  sentiment                                             review\n",
       "0  5814_8          1  stuff go moment mj ive start listen music watc...\n",
       "1  2381_9          1  classic war world timothi hine entertain film ...\n",
       "2  7759_3          0  film start manag nichola bell give welcom inve...\n",
       "3  3630_4          0  must assum prais film greatest film opera ever...\n",
       "4  9495_8          1  superbl trashi wondrous unpretenti exploit hoo..."
      ]
     },
     "execution_count": 27,
     "metadata": {},
     "output_type": "execute_result"
    }
   ],
   "source": [
    "'''\n",
    "Apply the porter_stemmer function created above to the df['review'] column.\n",
    "Verify the stemm for the words worked by checking the first 5 rows of the data frame.\n",
    "'''\n",
    "df['review'] = df['review'].apply(porter_stemmer)\n",
    "df.head()"
   ]
  },
  {
   "cell_type": "markdown",
   "id": "52b03ec4",
   "metadata": {},
   "source": [
    "### Part 2 - Split the stemmed data into a Training and Test dataset."
   ]
  },
  {
   "cell_type": "code",
   "execution_count": 28,
   "id": "dc4f7429",
   "metadata": {},
   "outputs": [],
   "source": [
    "'''\n",
    "Split the data with train_test_split from sklearn.\n",
    "Use test_size = 0.2 to split the data into 80% training and 20% testing data.\n",
    "'''\n",
    "X = df['review']\n",
    "y = df['sentiment']\n",
    "\n",
    "X_train, X_test, y_train, y_test = train_test_split(X, y, test_size = 0.2, random_state = 42)"
   ]
  },
  {
   "cell_type": "code",
   "execution_count": 29,
   "id": "6c635106",
   "metadata": {},
   "outputs": [
    {
     "name": "stdout",
     "output_type": "stream",
     "text": [
      "The original data set shape was 25000 rows and 3 columns.\n"
     ]
    }
   ],
   "source": [
    "print(\"The original data set shape was {} rows and {} columns.\".format(df.shape[0],df.shape[1]))"
   ]
  },
  {
   "cell_type": "code",
   "execution_count": 30,
   "id": "12561eb9",
   "metadata": {},
   "outputs": [
    {
     "name": "stdout",
     "output_type": "stream",
     "text": [
      "The X_train shape is 20000 rows.\n"
     ]
    }
   ],
   "source": [
    "print(\"The X_train shape is {} rows.\".format(X_train.shape[0]))"
   ]
  },
  {
   "cell_type": "code",
   "execution_count": 31,
   "id": "00e53821",
   "metadata": {},
   "outputs": [
    {
     "name": "stdout",
     "output_type": "stream",
     "text": [
      "The y_train shape is 20000 rows.\n"
     ]
    }
   ],
   "source": [
    "print(\"The y_train shape is {} rows.\".format(y_train.shape[0]))"
   ]
  },
  {
   "cell_type": "code",
   "execution_count": 32,
   "id": "0074874a",
   "metadata": {},
   "outputs": [
    {
     "name": "stdout",
     "output_type": "stream",
     "text": [
      "The X_test shape is 5000 rows.\n"
     ]
    }
   ],
   "source": [
    "print(\"The X_test shape is {} rows.\".format(X_test.shape[0]))"
   ]
  },
  {
   "cell_type": "code",
   "execution_count": 33,
   "id": "6767e945",
   "metadata": {},
   "outputs": [
    {
     "name": "stdout",
     "output_type": "stream",
     "text": [
      "The y_test shape is 5000 rows.\n"
     ]
    }
   ],
   "source": [
    "print(\"The y_test shape is {} rows.\".format(y_test.shape[0]))"
   ]
  },
  {
   "cell_type": "code",
   "execution_count": 34,
   "id": "a2307f2d",
   "metadata": {},
   "outputs": [
    {
     "data": {
      "text/plain": [
       "23311    movi plain dumbbr br cast ralph meeker mike ha...\n",
       "23623    dahmer young confus man dahmer confus movi gra...\n",
       "1020     may saint preserv us movi go helpbr br someon ...\n",
       "12645    combin read novella view film inspir wife new ...\n",
       "1533     daniel day lewi left foot give us one best per...\n",
       "Name: review, dtype: object"
      ]
     },
     "execution_count": 34,
     "metadata": {},
     "output_type": "execute_result"
    }
   ],
   "source": [
    "'''\n",
    "Review the X_train dataset first 5 rows.\n",
    "'''\n",
    "X_train.head()"
   ]
  },
  {
   "cell_type": "code",
   "execution_count": 35,
   "id": "ae6f6f7e",
   "metadata": {},
   "outputs": [
    {
     "data": {
      "text/plain": [
       "23311    0\n",
       "23623    0\n",
       "1020     0\n",
       "12645    1\n",
       "1533     1\n",
       "Name: sentiment, dtype: int64"
      ]
     },
     "execution_count": 35,
     "metadata": {},
     "output_type": "execute_result"
    }
   ],
   "source": [
    "'''\n",
    "Review the y_train dataset first 5 rows.\n",
    "'''\n",
    "y_train.head()"
   ]
  },
  {
   "cell_type": "code",
   "execution_count": 36,
   "id": "16013497",
   "metadata": {},
   "outputs": [
    {
     "data": {
      "text/plain": [
       "6868     read there girl soup came peter sellerss low p...\n",
       "24016    film pull getgo grab attent acknowledg yeah st...\n",
       "9668     aw death scene gun fire without make sound cha...\n",
       "13640    saw movi day ago movi great make feel want som...\n",
       "14018    film much promis disappoint thinli plot act ra...\n",
       "Name: review, dtype: object"
      ]
     },
     "execution_count": 36,
     "metadata": {},
     "output_type": "execute_result"
    }
   ],
   "source": [
    "'''\n",
    "Review the X_test dataset first 5 rows.\n",
    "'''\n",
    "X_test.head()"
   ]
  },
  {
   "cell_type": "code",
   "execution_count": 37,
   "id": "3c23c0a2",
   "metadata": {},
   "outputs": [
    {
     "data": {
      "text/plain": [
       "6868     0\n",
       "24016    1\n",
       "9668     0\n",
       "13640    1\n",
       "14018    0\n",
       "Name: sentiment, dtype: int64"
      ]
     },
     "execution_count": 37,
     "metadata": {},
     "output_type": "execute_result"
    }
   ],
   "source": [
    "'''\n",
    "Review the y_test dataset first 5 rows.\n",
    "'''\n",
    "y_test.head()"
   ]
  },
  {
   "cell_type": "markdown",
   "id": "86321867",
   "metadata": {},
   "source": [
    "### Part 3 - Fit and apply the tf-idf vectorization to the Training  dataset."
   ]
  },
  {
   "cell_type": "code",
   "execution_count": 38,
   "id": "a92a6b9a",
   "metadata": {},
   "outputs": [],
   "source": [
    "'''\n",
    "Reference section 6.9 of the Machine Learning with Python Cookbook (Pg 106)\n",
    "Utilize TfidfVectorizer to create the tf-idf feature matrix.\n",
    "Fit the training data.\n",
    "'''\n",
    "vectorizer = TfidfVectorizer().fit(X_train)"
   ]
  },
  {
   "cell_type": "code",
   "execution_count": 39,
   "id": "0a8d3d6b",
   "metadata": {},
   "outputs": [
    {
     "data": {
      "text/plain": [
       "78047"
      ]
     },
     "execution_count": 39,
     "metadata": {},
     "output_type": "execute_result"
    }
   ],
   "source": [
    "'''\n",
    "Understand the length of vectorizer with get_feature_names().\n",
    "'''\n",
    "len(vectorizer.get_feature_names())"
   ]
  },
  {
   "cell_type": "code",
   "execution_count": 40,
   "id": "42f995f0",
   "metadata": {},
   "outputs": [
    {
     "data": {
      "text/plain": [
       "['aa',\n",
       " 'aaa',\n",
       " 'aaaaah',\n",
       " 'aaaaatchkah',\n",
       " 'aaaahhhhhhh',\n",
       " 'aaaand',\n",
       " 'aaaarrgh',\n",
       " 'aaah',\n",
       " 'aaand',\n",
       " 'aaargh',\n",
       " 'aaaugh',\n",
       " 'aachen',\n",
       " 'aadha',\n",
       " 'aadmittedli',\n",
       " 'aag',\n",
       " 'aaghh',\n",
       " 'aah',\n",
       " 'aahhh',\n",
       " 'aaip',\n",
       " 'aakash',\n",
       " 'aaker',\n",
       " 'aakrosh',\n",
       " 'aam',\n",
       " 'aamesbr',\n",
       " 'aamess',\n",
       " 'aamir',\n",
       " 'aan',\n",
       " 'aankhen',\n",
       " 'aap',\n",
       " 'aapk',\n",
       " 'aapkey',\n",
       " 'aardman',\n",
       " 'aardvark',\n",
       " 'aargh',\n",
       " 'aaron',\n",
       " 'aarp',\n",
       " 'aarrrgh',\n",
       " 'aatish',\n",
       " 'aauugghh',\n",
       " 'aavjo',\n",
       " 'aaww',\n",
       " 'ab',\n",
       " 'aback',\n",
       " 'abahi',\n",
       " 'abanaz',\n",
       " 'abandon',\n",
       " 'abandonbr',\n",
       " 'abandoningbr',\n",
       " 'abandonmentbr',\n",
       " 'abank']"
      ]
     },
     "execution_count": 40,
     "metadata": {},
     "output_type": "execute_result"
    }
   ],
   "source": [
    "'''\n",
    "Show the first 50 values from vectorizer.\n",
    "'''\n",
    "vectorizer.get_feature_names()[:50]"
   ]
  },
  {
   "cell_type": "code",
   "execution_count": 41,
   "id": "7497df92",
   "metadata": {},
   "outputs": [],
   "source": [
    "'''\n",
    "Transform the training data.\n",
    "'''\n",
    "X_train_vectorized = vectorizer.transform(X_train)"
   ]
  },
  {
   "cell_type": "code",
   "execution_count": 45,
   "id": "381c838c",
   "metadata": {},
   "outputs": [
    {
     "data": {
      "text/plain": [
       "<20000x78047 sparse matrix of type '<class 'numpy.float64'>'\n",
       "\twith 1930522 stored elements in Compressed Sparse Row format>"
      ]
     },
     "execution_count": 45,
     "metadata": {},
     "output_type": "execute_result"
    }
   ],
   "source": [
    "'''\n",
    "Show the X_train_vectorized feature matrix.\n",
    "'''\n",
    "X_train_vectorized"
   ]
  },
  {
   "cell_type": "markdown",
   "id": "a322a56a",
   "metadata": {},
   "source": [
    "### Part 4 - Apply (but DO NOT FIT) the tf-idf vectorization to the Test dataset. Explain why."
   ]
  },
  {
   "cell_type": "code",
   "execution_count": 46,
   "id": "2e239e86",
   "metadata": {},
   "outputs": [],
   "source": [
    "'''\n",
    "Apply the same transformation to the Test dataset without performing the fit.\n",
    "'''\n",
    "X_test_vectorized = vectorizer.transform(X_test)"
   ]
  },
  {
   "cell_type": "code",
   "execution_count": 47,
   "id": "f59c3a17",
   "metadata": {},
   "outputs": [
    {
     "data": {
      "text/plain": [
       "<5000x78047 sparse matrix of type '<class 'numpy.float64'>'\n",
       "\twith 475478 stored elements in Compressed Sparse Row format>"
      ]
     },
     "execution_count": 47,
     "metadata": {},
     "output_type": "execute_result"
    }
   ],
   "source": [
    "'''\n",
    "Show the X_test_vectorized feature matrix.\n",
    "'''\n",
    "X_test_vectorized"
   ]
  },
  {
   "cell_type": "markdown",
   "id": "32c1077f",
   "metadata": {},
   "source": [
    "The intent for splitting a dataset into train and test categories with supervised data is to gain insight on how a model will perform when introduced to new \"unseen\" data. The test dataset that is split-off from the original corpus serves as this initial insight for how the model will perform against new data. Avoid fitting the test dataset to ensure the model is not over-fit to the entire corpus of data reviews.  "
   ]
  },
  {
   "cell_type": "markdown",
   "id": "93aab23a",
   "metadata": {},
   "source": [
    "### Part 5 - Train a logistic regression using the Training dataset."
   ]
  },
  {
   "cell_type": "code",
   "execution_count": 49,
   "id": "ff5da4dd",
   "metadata": {},
   "outputs": [
    {
     "data": {
      "text/plain": [
       "LogisticRegression()"
      ]
     },
     "execution_count": 49,
     "metadata": {},
     "output_type": "execute_result"
    }
   ],
   "source": [
    "'''\n",
    "Utilize LogisticRegression() to train the model with the X_train_vectorized data.\n",
    "'''\n",
    "model = LogisticRegression()\n",
    "model.fit(X_train_vectorized, y_train)"
   ]
  },
  {
   "cell_type": "code",
   "execution_count": 50,
   "id": "d5a2d554",
   "metadata": {},
   "outputs": [],
   "source": [
    "'''\n",
    "Create predictions for the Logistic Regression model.\n",
    "'''\n",
    "predictions = model.predict(X_test_vectorized)"
   ]
  },
  {
   "cell_type": "code",
   "execution_count": 51,
   "id": "747cc8ad",
   "metadata": {},
   "outputs": [
    {
     "data": {
      "text/plain": [
       "array([0, 1, 0, 1, 0, 1, 1, 0, 0, 1, 0, 0, 0, 1, 1, 1, 0, 1, 1, 1],\n",
       "      dtype=int64)"
      ]
     },
     "execution_count": 51,
     "metadata": {},
     "output_type": "execute_result"
    }
   ],
   "source": [
    "'''\n",
    "Understand the predictions as 0 (negative) or 1 (positive) defined in predictions.\n",
    "'''\n",
    "predictions[:20]"
   ]
  },
  {
   "cell_type": "code",
   "execution_count": 62,
   "id": "c2791566",
   "metadata": {},
   "outputs": [],
   "source": [
    "'''\n",
    "Store the feature names from the array and sort.\n",
    "'''\n",
    "feature_names = np.array(vectorizer.get_feature_names())\n",
    "sorted_coef_index = model.coef_[0].argsort()"
   ]
  },
  {
   "cell_type": "code",
   "execution_count": 63,
   "id": "8d369037",
   "metadata": {},
   "outputs": [
    {
     "name": "stdout",
     "output_type": "stream",
     "text": [
      "Smallest Coefficients: ['worst' 'wast' 'bad' 'aw' 'bore' 'noth' 'poor' 'disappoint' 'wors'\n",
      " 'terribl' 'fail' 'horribl' 'poorli' 'suppos' 'dull' 'save' 'lack'\n",
      " 'stupid' 'unfortun' 'script']\n"
     ]
    }
   ],
   "source": [
    "'''\n",
    "Show the 20 smallest coefficients for the feature names.\n",
    "'''\n",
    "print('Smallest Coefficients:', feature_names[sorted_coef_index[:20]])"
   ]
  },
  {
   "cell_type": "code",
   "execution_count": 64,
   "id": "20791c79",
   "metadata": {},
   "outputs": [
    {
     "name": "stdout",
     "output_type": "stream",
     "text": [
      "Largest Coefficients: ['great' 'excel' 'love' 'enjoy' 'best' 'perfect' 'favorit' 'well' 'beauti'\n",
      " 'amaz' 'fun' 'brilliant' 'highli' 'definit' 'today' 'superb' 'also'\n",
      " 'still' 'job' 'touch']\n"
     ]
    }
   ],
   "source": [
    "'''\n",
    "Show the 20 largest coefficients for the feature names.\n",
    "'''\n",
    "print('Largest Coefficients:', feature_names[sorted_coef_index[:-21:-1]])"
   ]
  },
  {
   "cell_type": "markdown",
   "id": "167359a3",
   "metadata": {},
   "source": [
    "### Part 6 - Find the model accuracy on the Test dataset."
   ]
  },
  {
   "cell_type": "code",
   "execution_count": 59,
   "id": "d3475192",
   "metadata": {},
   "outputs": [
    {
     "name": "stdout",
     "output_type": "stream",
     "text": [
      "The accuracy of the Logistic Regression Model is: 0.885 \n"
     ]
    }
   ],
   "source": [
    "'''\n",
    "Calculate the accuracy of the model on the Test dataset with accuracy_score from sklearn metrics.\n",
    "'''\n",
    "accuracy_logreg = metrics.accuracy_score(y_test, predictions)\n",
    "print('The accuracy of the Logistic Regression Model is: {} '.format(accuracy_logreg))"
   ]
  },
  {
   "cell_type": "code",
   "execution_count": 61,
   "id": "3ba4d8e5",
   "metadata": {},
   "outputs": [
    {
     "name": "stdout",
     "output_type": "stream",
     "text": [
      "AUC Score: 0.885\n"
     ]
    }
   ],
   "source": [
    "'''\n",
    "Calculate the Area Under the Curve (AUC) score for the Logistic Regression model.\n",
    "Confirm the finding above for the accuracy of the model.\n",
    "'''\n",
    "auc_score = round(roc_auc_score(y_test, predictions),3)\n",
    "print('AUC Score: {}'.format(auc_score))"
   ]
  },
  {
   "cell_type": "markdown",
   "id": "bfce3439",
   "metadata": {},
   "source": [
    "The accuracy of the model is approximately 88.5%."
   ]
  },
  {
   "cell_type": "markdown",
   "id": "ef3f89b0",
   "metadata": {},
   "source": [
    "### Part 7 - Create a confusion matrix for the Test set predictions."
   ]
  },
  {
   "cell_type": "code",
   "execution_count": 68,
   "id": "f4c3332b",
   "metadata": {},
   "outputs": [
    {
     "name": "stdout",
     "output_type": "stream",
     "text": [
      "Confusion Matrix of Test set predictions: \n",
      " [[2152  329]\n",
      " [ 246 2273]]\n"
     ]
    }
   ],
   "source": [
    "'''\n",
    "Create a confusion matrix from sklearn with confusion_matrix().\n",
    "'''\n",
    "confus_mat = confusion_matrix(y_test, predictions)\n",
    "print('Confusion Matrix of Test set predictions: \\n', confus_mat)"
   ]
  },
  {
   "cell_type": "code",
   "execution_count": 79,
   "id": "b0e1fb17",
   "metadata": {},
   "outputs": [
    {
     "data": {
      "text/plain": [
       "Text(33.0, 0.5, 'Predicted Label')"
      ]
     },
     "execution_count": 79,
     "metadata": {},
     "output_type": "execute_result"
    },
    {
     "data": {
      "image/png": "[encoded data removed]",
      "text/plain": [
       "<Figure size 432x360 with 2 Axes>"
      ]
     },
     "metadata": {
      "needs_background": "light"
     },
     "output_type": "display_data"
    }
   ],
   "source": [
    "'''\n",
    "Try to create a confusion matrix graph.\n",
    "'''\n",
    "plt.figure(figsize=(6,5))\n",
    "sns.heatmap(confus_mat, annot=True, fmt='d')\n",
    "plt.title('Confustion Matrix of Test Set')\n",
    "plt.xlabel('True Label')\n",
    "plt.ylabel('Predicted Label')"
   ]
  },
  {
   "cell_type": "markdown",
   "id": "80e2a2f6",
   "metadata": {},
   "source": [
    "### Part 8 - Get the precision, recall, and F1-score for the Test set predictions."
   ]
  },
  {
   "cell_type": "code",
   "execution_count": 73,
   "id": "567575c4",
   "metadata": {},
   "outputs": [
    {
     "name": "stdout",
     "output_type": "stream",
     "text": [
      "Precision Score: 0.874\n"
     ]
    }
   ],
   "source": [
    "'''\n",
    "Calculate and print the Precision Score for the model with sklearn's precision_score().\n",
    "'''\n",
    "pred_score = round(precision_score(y_test, predictions),3)\n",
    "print('Precision Score: {}'.format(pred_score))"
   ]
  },
  {
   "cell_type": "markdown",
   "id": "fb5022b6",
   "metadata": {},
   "source": [
    "Precision measures the ratio of true positives assessed relative to all the positive predictions. The Precision Score above for the Logistic Regression model on the Test data is 0.874."
   ]
  },
  {
   "cell_type": "code",
   "execution_count": 74,
   "id": "f92c647d",
   "metadata": {},
   "outputs": [
    {
     "name": "stdout",
     "output_type": "stream",
     "text": [
      "Recall Score: 0.902\n"
     ]
    }
   ],
   "source": [
    "'''\n",
    "Calculate and print the Recall Score for the model with sklearn's recall_score().\n",
    "'''\n",
    "rec_score = round(recall_score(y_test, predictions),3)\n",
    "print('Recall Score: {}'.format(rec_score))"
   ]
  },
  {
   "cell_type": "markdown",
   "id": "3a8f2f0a",
   "metadata": {},
   "source": [
    "Recall measures the count of true positives assessed relative to all the actual true positive outcomes. The Recall Score above for the Logistic Regression model on the Test data is 0.902."
   ]
  },
  {
   "cell_type": "code",
   "execution_count": 75,
   "id": "e4bf5211",
   "metadata": {},
   "outputs": [
    {
     "name": "stdout",
     "output_type": "stream",
     "text": [
      "F1 Score: 0.888\n"
     ]
    }
   ],
   "source": [
    "'''\n",
    "Calculate and print the F1 Score for the model with sklearn's f1_score().\n",
    "'''\n",
    "f1_value = round(f1_score(y_test, predictions),3)\n",
    "print('F1 Score: {}'.format(f1_value))"
   ]
  },
  {
   "cell_type": "markdown",
   "id": "a1626d2a",
   "metadata": {},
   "source": [
    "The F1-score represents a combined value of precision and recall. The F1-score for the Logistic Regression model on the Test data is 0.888.  "
   ]
  },
  {
   "cell_type": "markdown",
   "id": "727e1e66",
   "metadata": {},
   "source": [
    "### Part 9 - Create a ROC curve for the Test dataset."
   ]
  },
  {
   "cell_type": "code",
   "execution_count": 76,
   "id": "fd3bc428",
   "metadata": {},
   "outputs": [],
   "source": [
    "'''\n",
    "Create the true positive (tpr) and false positive (fpr) metrics for the ROC curve.\n",
    "'''\n",
    "fpr, tpr, _ = metrics.roc_curve(y_test, predictions)"
   ]
  },
  {
   "cell_type": "code",
   "execution_count": 78,
   "id": "af3c99f8",
   "metadata": {},
   "outputs": [
    {
     "data": {
      "image/png": "[encoded data removed]",
      "text/plain": [
       "<Figure size 432x288 with 1 Axes>"
      ]
     },
     "metadata": {
      "needs_background": "light"
     },
     "output_type": "display_data"
    }
   ],
   "source": [
    "'''\n",
    "Create the ROC curve with the AUC value shown on the plot.\n",
    "'''\n",
    "plt.plot(fpr,tpr,label=\"AUC=\"+str(auc_score))\n",
    "plt.xlabel('False Positive Rate')\n",
    "plt.ylabel('True Positive Rate')\n",
    "plt.title('ROC Curve for Logistic Regression Model on Test Data')\n",
    "plt.legend(loc=4)\n",
    "plt.show()"
   ]
  },
  {
   "cell_type": "markdown",
   "id": "320b3191",
   "metadata": {},
   "source": [
    "### Part 10 - Pick another classification model you learned about this week and repeat steps (5) - (9)."
   ]
  },
  {
   "cell_type": "markdown",
   "id": "eaa27b7f",
   "metadata": {},
   "source": [
    "### Part 10.5 - Use a Multinomial Naive Bayes Classifier on the movie reviews."
   ]
  },
  {
   "cell_type": "code",
   "execution_count": 84,
   "id": "de4c29cb",
   "metadata": {},
   "outputs": [
    {
     "data": {
      "text/plain": [
       "(25000, 89075)"
      ]
     },
     "execution_count": 84,
     "metadata": {},
     "output_type": "execute_result"
    }
   ],
   "source": [
    "'''\n",
    "Try creating a bag of words to use for the input data for the Multinomial Naive Bayes Classifier.\n",
    "use CountVectorizer() and fit_transform().\n",
    "'''\n",
    "bag_of_words_vectorizer = CountVectorizer()\n",
    "bag_of_words = bag_of_words_vectorizer.fit_transform(df['review'])\n",
    "bag_of_words.shape"
   ]
  },
  {
   "cell_type": "code",
   "execution_count": 100,
   "id": "e9b4581d",
   "metadata": {},
   "outputs": [],
   "source": [
    "'''\n",
    "Split the data with train_test_split from sklearn.\n",
    "Use test_size = 0.2 to split the data into 80% training and 20% testing data.\n",
    "'''\n",
    "X_nb = bag_of_words\n",
    "y_nb = df['sentiment']\n",
    "\n",
    "X_train_nb, X_test_nb, y_train_nb, y_test_nb = train_test_split(X_nb, y_nb, test_size = 0.2, random_state = 42)"
   ]
  },
  {
   "cell_type": "code",
   "execution_count": 101,
   "id": "9ce55c55",
   "metadata": {},
   "outputs": [
    {
     "name": "stdout",
     "output_type": "stream",
     "text": [
      "X_train_nb shape: (20000, 89075)\n",
      "y_train_nb shape: (20000,)\n",
      "X_test_nb shape: (5000, 89075)\n",
      "y_test_nb shape: (5000,)\n"
     ]
    }
   ],
   "source": [
    "print('X_train_nb shape:', X_train_nb.shape)\n",
    "print('y_train_nb shape:', y_train_nb.shape)\n",
    "print('X_test_nb shape:', X_test_nb.shape)\n",
    "print('y_test_nb shape:', y_test_nb.shape)"
   ]
  },
  {
   "cell_type": "code",
   "execution_count": 102,
   "id": "f3ac3f2f",
   "metadata": {},
   "outputs": [
    {
     "data": {
      "text/plain": [
       "MultinomialNB()"
      ]
     },
     "execution_count": 102,
     "metadata": {},
     "output_type": "execute_result"
    }
   ],
   "source": [
    "'''\n",
    "Reference section 18.2 in Machine Learning with Python Cookbook (Albon, pg 282)\n",
    "Train a Multinomial Naive Bayes Classifier model.\n",
    "'''\n",
    "model_naive = MultinomialNB().fit(X_train_nb, y_train_nb)\n",
    "model_naive"
   ]
  },
  {
   "cell_type": "code",
   "execution_count": 103,
   "id": "c91284a6",
   "metadata": {},
   "outputs": [],
   "source": [
    "'''\n",
    "Create predictions for the Multinomial Naive Bayes Classifier model.\n",
    "'''\n",
    "predictions_nb = model_naive.predict(X_test_nb)"
   ]
  },
  {
   "cell_type": "code",
   "execution_count": 104,
   "id": "fad0853d",
   "metadata": {},
   "outputs": [
    {
     "data": {
      "text/plain": [
       "array([0, 1, 0, 1, 0, 1, 1, 0, 0, 1, 0, 0, 0, 0, 0, 1, 0, 1, 1, 1],\n",
       "      dtype=int64)"
      ]
     },
     "execution_count": 104,
     "metadata": {},
     "output_type": "execute_result"
    }
   ],
   "source": [
    "'''\n",
    "Understand the predictions as 0 (negative) or 1 (positive) defined in predictions_nb.\n",
    "'''\n",
    "predictions_nb[:20]"
   ]
  },
  {
   "cell_type": "markdown",
   "id": "fd3e7bfd",
   "metadata": {},
   "source": [
    "### Part 10.6 - Calculate the accuracy of the Multinomial Naive Bayes model on the Test set."
   ]
  },
  {
   "cell_type": "code",
   "execution_count": 107,
   "id": "f58e919a",
   "metadata": {},
   "outputs": [
    {
     "name": "stdout",
     "output_type": "stream",
     "text": [
      "The accuracy of the Multinomial Naive Bayes Model is: 0.8516 \n"
     ]
    }
   ],
   "source": [
    "'''\n",
    "Calculate the accuracy of the Multinomial Naive Bayes \n",
    "model on the Test dataset with accuracy_score from sklearn metrics.\n",
    "'''\n",
    "accuracy_nb = metrics.accuracy_score(y_test_nb, predictions_nb)\n",
    "print('The accuracy of the Multinomial Naive Bayes Model is: {} '.format(accuracy_nb))"
   ]
  },
  {
   "cell_type": "markdown",
   "id": "fc77b35d",
   "metadata": {},
   "source": [
    "### Part 10.7 - Create a confusion matrix for the Multinomial Naive Bayes model for the Test set."
   ]
  },
  {
   "cell_type": "code",
   "execution_count": 105,
   "id": "cd6c14bb",
   "metadata": {},
   "outputs": [
    {
     "name": "stdout",
     "output_type": "stream",
     "text": [
      "Confusion Matrix of Test set predictions: \n",
      " [[2150  331]\n",
      " [ 411 2108]]\n"
     ]
    }
   ],
   "source": [
    "'''\n",
    "Create a confusion matrix from sklearn with confusion_matrix().\n",
    "'''\n",
    "confus_mat_nb = confusion_matrix(y_test_nb, predictions_nb)\n",
    "print('Confusion Matrix of Test set predictions: \\n', confus_mat_nb)"
   ]
  },
  {
   "cell_type": "code",
   "execution_count": 106,
   "id": "2259c446",
   "metadata": {},
   "outputs": [
    {
     "data": {
      "text/plain": [
       "Text(33.0, 0.5, 'Predicted Label')"
      ]
     },
     "execution_count": 106,
     "metadata": {},
     "output_type": "execute_result"
    },
    {
     "data": {
      "image/png": "[encoded data removed]",
      "text/plain": [
       "<Figure size 432x360 with 2 Axes>"
      ]
     },
     "metadata": {
      "needs_background": "light"
     },
     "output_type": "display_data"
    }
   ],
   "source": [
    "'''\n",
    "Try to create a confusion matrix graph.\n",
    "'''\n",
    "plt.figure(figsize=(6,5))\n",
    "sns.heatmap(confus_mat_nb, annot=True, fmt='d')\n",
    "plt.title('Confustion Matrix of Test Set for Multinomial Naive Bayes Model')\n",
    "plt.xlabel('True Label')\n",
    "plt.ylabel('Predicted Label')"
   ]
  },
  {
   "cell_type": "markdown",
   "id": "dbc878fd",
   "metadata": {},
   "source": [
    "### Part 10.8 - Calculate the Precision, Recall, and F1-Score for the Multinomial Naive Bayes model for the Test set predictions."
   ]
  },
  {
   "cell_type": "code",
   "execution_count": 108,
   "id": "27d59b62",
   "metadata": {},
   "outputs": [
    {
     "name": "stdout",
     "output_type": "stream",
     "text": [
      "Precision Score for Multinomial Naive Bayes Model: 0.864\n"
     ]
    }
   ],
   "source": [
    "'''\n",
    "Calculate and print the Precision Score for the model with sklearn's precision_score().\n",
    "'''\n",
    "pred_score_nb = round(precision_score(y_test_nb, predictions_nb),3)\n",
    "print('Precision Score for Multinomial Naive Bayes Model: {}'.format(pred_score_nb))"
   ]
  },
  {
   "cell_type": "code",
   "execution_count": 109,
   "id": "6cf8c131",
   "metadata": {},
   "outputs": [
    {
     "name": "stdout",
     "output_type": "stream",
     "text": [
      "Recall Score for Multinomial Naive Bayes Model: 0.837\n"
     ]
    }
   ],
   "source": [
    "'''\n",
    "Calculate and print the Recall Score for the model with sklearn's recall_score().\n",
    "'''\n",
    "rec_score_nb = round(recall_score(y_test_nb, predictions_nb),3)\n",
    "print('Recall Score for Multinomial Naive Bayes Model: {}'.format(rec_score_nb))"
   ]
  },
  {
   "cell_type": "code",
   "execution_count": 111,
   "id": "4fdc18e6",
   "metadata": {},
   "outputs": [
    {
     "name": "stdout",
     "output_type": "stream",
     "text": [
      "F1 Score for Multinomial Naive Bayes Model: 0.85\n"
     ]
    }
   ],
   "source": [
    "'''\n",
    "Calculate and print the F1 Score for the model with sklearn's f1_score().\n",
    "'''\n",
    "f1_value_nb = round(f1_score(y_test_nb, predictions_nb),3)\n",
    "print('F1 Score for Multinomial Naive Bayes Model: {}'.format(f1_value_nb))"
   ]
  },
  {
   "cell_type": "markdown",
   "id": "727aa100",
   "metadata": {},
   "source": [
    "### Part 10.9 - Create a ROC curve for the Multinomial Naive Bayes model for the Test set."
   ]
  },
  {
   "cell_type": "code",
   "execution_count": 112,
   "id": "faec1a03",
   "metadata": {},
   "outputs": [],
   "source": [
    "'''\n",
    "Create the true positive (tpr) and false positive (fpr) metrics for the ROC curve.\n",
    "'''\n",
    "fpr_nb, tpr_nb, _ = metrics.roc_curve(y_test_nb, predictions_nb)"
   ]
  },
  {
   "cell_type": "code",
   "execution_count": 113,
   "id": "7f759ee2",
   "metadata": {},
   "outputs": [
    {
     "data": {
      "image/png": "[encoded data removed]",
      "text/plain": [
       "<Figure size 432x288 with 1 Axes>"
      ]
     },
     "metadata": {
      "needs_background": "light"
     },
     "output_type": "display_data"
    }
   ],
   "source": [
    "'''\n",
    "Create the ROC curve with the AUC value shown on the plot.\n",
    "'''\n",
    "auc_score_nb = round(roc_auc_score(y_test_nb, predictions_nb),3)\n",
    "plt.plot(fpr_nb,tpr_nb,label=\"AUC=\"+str(auc_score_nb))\n",
    "plt.xlabel('False Positive Rate')\n",
    "plt.ylabel('True Positive Rate')\n",
    "plt.title('ROC Curve for Multinomial Naive Bayes Model on Test Data')\n",
    "plt.legend(loc=4)\n",
    "plt.show()"
   ]
  }
 ],
 "metadata": {
  "kernelspec": {
   "display_name": "Python 3 (ipykernel)",
   "language": "python",
   "name": "python3"
  },
  "language_info": {
   "codemirror_mode": {
    "name": "ipython",
    "version": 3
   },
   "file_extension": ".py",
   "mimetype": "text/x-python",
   "name": "python",
   "nbconvert_exporter": "python",
   "pygments_lexer": "ipython3",
   "version": "3.9.7"
  }
 },
 "nbformat": 4,
 "nbformat_minor": 5
}
