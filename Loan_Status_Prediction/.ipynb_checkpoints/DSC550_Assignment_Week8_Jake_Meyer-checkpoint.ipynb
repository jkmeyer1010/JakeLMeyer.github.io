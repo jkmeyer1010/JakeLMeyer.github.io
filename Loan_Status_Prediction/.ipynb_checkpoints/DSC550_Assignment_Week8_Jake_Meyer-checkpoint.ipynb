{
 "cells": [
  {
   "cell_type": "markdown",
   "id": "2ec94498",
   "metadata": {},
   "source": [
    "# DCS 550 Data Mining (DSC550-T302 2227-1)\n",
    "## Bellevue University\n",
    "## 8.2 Exercise: Best Model Selection and Hyperparameter Tuning\n",
    "## Author: Jake Meyer\n",
    "## Date: 7/31/2022"
   ]
  },
  {
   "cell_type": "markdown",
   "id": "86b7c8f0",
   "metadata": {},
   "source": [
    "## Assignment Instructions:\n",
    "In this exercise, you will work with the Loan_Train.csv dataset which can be downloaded from this link:: [Loan Approval Data Set](https://www.kaggle.com/datasets/granjithkumar/loan-approval-data-set)"
   ]
  },
  {
   "cell_type": "markdown",
   "id": "57f93c06",
   "metadata": {},
   "source": [
    "<ol>\n",
    "    <li> Import the dataset and ensure that it loaded properly.\n",
    "    <li> Prepare the data for modeling by performing the following steps:<br>\n",
    "$\\bullet$ Drop the column “Loan_ID.”<br>\n",
    "$\\bullet$ Drop any rows with missing data. <br>\n",
    "$\\bullet$ Convert the categorical features into dummy variables. <br>\n",
    "    <li> Split the data into a training and test set, where the “Loan_Status” column is the target.\n",
    "    <li> Create a pipeline with a min-max scaler and a KNN classifier (see section 15.3 in the Machine Learning with Python Cookbook).\n",
    "    <li> Fit a default KNN classifier to the data with this pipeline. Report the model accuracy on the test set. Note: Fitting a pipeline model works just like fitting a regular model.\n",
    "    <li> Create a search space for your KNN classifier where your “n_neighbors” parameter varies from 1 to 10. (see section 15.3 in the Machine Learning with Python Cookbook).\n",
    "    <li> Fit a grid search with your pipeline, search space, and 5-fold cross-validation to find the best value for the “n_neighbors” parameter.\n",
    "    <li> Find the accuracy of the grid search best model on the test set. Note: It is possible that this will not be an improvement over the default model, but likely it will be.\n",
    "    <li> Now, repeat steps 6 and 7 with the same pipeline, but expand your search space to include logistic regression and random forest models with the hyperparameter values in section 12.3 of the Machine Learning with Python Cookbook.\n",
    "    <li> What are the best model and hyperparameters found in the grid search? Find the accuracy of this model on the test set.\n",
    "    <li> Summarize your results.\n",
    "<ol>"
   ]
  },
  {
   "cell_type": "code",
   "execution_count": 1,
   "id": "6452c85f",
   "metadata": {},
   "outputs": [],
   "source": [
    "'''\n",
    "Import the necessary libraries to complete Exercise 8.2.\n",
    "'''\n",
    "import numpy as np\n",
    "import pandas as pd\n",
    "import seaborn as sns\n",
    "import matplotlib as mpl\n",
    "import matplotlib.pyplot as plt\n",
    "import sklearn\n",
    "%matplotlib inline\n",
    "import warnings\n",
    "warnings.filterwarnings(\"ignore\")\n",
    "from sklearn import linear_model\n",
    "from sklearn.model_selection import train_test_split\n",
    "from sklearn.model_selection import GridSearchCV\n",
    "from sklearn.linear_model import LinearRegression\n",
    "from sklearn.linear_model import LogisticRegression\n",
    "from sklearn.ensemble import RandomForestClassifier\n",
    "from sklearn.tree import DecisionTreeClassifier\n",
    "from sklearn.tree import plot_tree\n",
    "from sklearn.pipeline import Pipeline\n",
    "from sklearn.pipeline import FeatureUnion\n",
    "from sklearn.neighbors import KNeighborsClassifier\n",
    "from sklearn.decomposition import PCA\n",
    "from sklearn.preprocessing import StandardScaler\n",
    "from sklearn.preprocessing import MinMaxScaler\n",
    "from sklearn.feature_selection import VarianceThreshold\n",
    "from sklearn.feature_selection import SelectKBest\n",
    "from sklearn.feature_selection import chi2, f_classif\n",
    "from sklearn.metrics import mean_absolute_error\n",
    "from sklearn.metrics import mean_squared_error\n",
    "from sklearn.metrics import r2_score\n",
    "from sklearn.metrics import roc_auc_score\n",
    "from sklearn.metrics import confusion_matrix\n",
    "from sklearn.metrics import precision_score, recall_score, f1_score"
   ]
  },
  {
   "cell_type": "code",
   "execution_count": 2,
   "id": "289b853c",
   "metadata": {},
   "outputs": [
    {
     "name": "stdout",
     "output_type": "stream",
     "text": [
      "numpy version: 1.20.3\n",
      "pandas version: 1.3.4\n",
      "matplotlib version: 3.4.3\n",
      "seaborn: 0.11.2\n",
      "sklearn: 0.24.2\n"
     ]
    }
   ],
   "source": [
    "'''\n",
    "Check the versions of the packages.\n",
    "'''\n",
    "print('numpy version:', np.__version__)\n",
    "print('pandas version:', pd.__version__)\n",
    "print('matplotlib version:', mpl.__version__)\n",
    "print('seaborn:', sns.__version__)\n",
    "print('sklearn:', sklearn.__version__)"
   ]
  },
  {
   "cell_type": "markdown",
   "id": "4ea91e5e",
   "metadata": {},
   "source": [
    "### Part 1 - Import the dataset and ensure that it loaded properly."
   ]
  },
  {
   "cell_type": "code",
   "execution_count": 3,
   "id": "e4a6abca",
   "metadata": {},
   "outputs": [],
   "source": [
    "'''\n",
    "Import the Loan Data from Loan_Train.csv.\n",
    "Note: A copy of the CSV file was placed into the same directory as this notebook.\n",
    "'''\n",
    "df = pd.read_csv('Loan_Train.csv')"
   ]
  },
  {
   "cell_type": "code",
   "execution_count": 4,
   "id": "8b646165",
   "metadata": {},
   "outputs": [
    {
     "data": {
      "text/html": [
       "<div>\n",
       "<style scoped>\n",
       "    .dataframe tbody tr th:only-of-type {\n",
       "        vertical-align: middle;\n",
       "    }\n",
       "\n",
       "    .dataframe tbody tr th {\n",
       "        vertical-align: top;\n",
       "    }\n",
       "\n",
       "    .dataframe thead th {\n",
       "        text-align: right;\n",
       "    }\n",
       "</style>\n",
       "<table border=\"1\" class=\"dataframe\">\n",
       "  <thead>\n",
       "    <tr style=\"text-align: right;\">\n",
       "      <th></th>\n",
       "      <th>Loan_ID</th>\n",
       "      <th>Gender</th>\n",
       "      <th>Married</th>\n",
       "      <th>Dependents</th>\n",
       "      <th>Education</th>\n",
       "      <th>Self_Employed</th>\n",
       "      <th>ApplicantIncome</th>\n",
       "      <th>CoapplicantIncome</th>\n",
       "      <th>LoanAmount</th>\n",
       "      <th>Loan_Amount_Term</th>\n",
       "      <th>Credit_History</th>\n",
       "      <th>Property_Area</th>\n",
       "      <th>Loan_Status</th>\n",
       "    </tr>\n",
       "  </thead>\n",
       "  <tbody>\n",
       "    <tr>\n",
       "      <th>0</th>\n",
       "      <td>LP001002</td>\n",
       "      <td>Male</td>\n",
       "      <td>No</td>\n",
       "      <td>0</td>\n",
       "      <td>Graduate</td>\n",
       "      <td>No</td>\n",
       "      <td>5849</td>\n",
       "      <td>0.0</td>\n",
       "      <td>NaN</td>\n",
       "      <td>360.0</td>\n",
       "      <td>1.0</td>\n",
       "      <td>Urban</td>\n",
       "      <td>Y</td>\n",
       "    </tr>\n",
       "    <tr>\n",
       "      <th>1</th>\n",
       "      <td>LP001003</td>\n",
       "      <td>Male</td>\n",
       "      <td>Yes</td>\n",
       "      <td>1</td>\n",
       "      <td>Graduate</td>\n",
       "      <td>No</td>\n",
       "      <td>4583</td>\n",
       "      <td>1508.0</td>\n",
       "      <td>128.0</td>\n",
       "      <td>360.0</td>\n",
       "      <td>1.0</td>\n",
       "      <td>Rural</td>\n",
       "      <td>N</td>\n",
       "    </tr>\n",
       "    <tr>\n",
       "      <th>2</th>\n",
       "      <td>LP001005</td>\n",
       "      <td>Male</td>\n",
       "      <td>Yes</td>\n",
       "      <td>0</td>\n",
       "      <td>Graduate</td>\n",
       "      <td>Yes</td>\n",
       "      <td>3000</td>\n",
       "      <td>0.0</td>\n",
       "      <td>66.0</td>\n",
       "      <td>360.0</td>\n",
       "      <td>1.0</td>\n",
       "      <td>Urban</td>\n",
       "      <td>Y</td>\n",
       "    </tr>\n",
       "    <tr>\n",
       "      <th>3</th>\n",
       "      <td>LP001006</td>\n",
       "      <td>Male</td>\n",
       "      <td>Yes</td>\n",
       "      <td>0</td>\n",
       "      <td>Not Graduate</td>\n",
       "      <td>No</td>\n",
       "      <td>2583</td>\n",
       "      <td>2358.0</td>\n",
       "      <td>120.0</td>\n",
       "      <td>360.0</td>\n",
       "      <td>1.0</td>\n",
       "      <td>Urban</td>\n",
       "      <td>Y</td>\n",
       "    </tr>\n",
       "    <tr>\n",
       "      <th>4</th>\n",
       "      <td>LP001008</td>\n",
       "      <td>Male</td>\n",
       "      <td>No</td>\n",
       "      <td>0</td>\n",
       "      <td>Graduate</td>\n",
       "      <td>No</td>\n",
       "      <td>6000</td>\n",
       "      <td>0.0</td>\n",
       "      <td>141.0</td>\n",
       "      <td>360.0</td>\n",
       "      <td>1.0</td>\n",
       "      <td>Urban</td>\n",
       "      <td>Y</td>\n",
       "    </tr>\n",
       "    <tr>\n",
       "      <th>5</th>\n",
       "      <td>LP001011</td>\n",
       "      <td>Male</td>\n",
       "      <td>Yes</td>\n",
       "      <td>2</td>\n",
       "      <td>Graduate</td>\n",
       "      <td>Yes</td>\n",
       "      <td>5417</td>\n",
       "      <td>4196.0</td>\n",
       "      <td>267.0</td>\n",
       "      <td>360.0</td>\n",
       "      <td>1.0</td>\n",
       "      <td>Urban</td>\n",
       "      <td>Y</td>\n",
       "    </tr>\n",
       "    <tr>\n",
       "      <th>6</th>\n",
       "      <td>LP001013</td>\n",
       "      <td>Male</td>\n",
       "      <td>Yes</td>\n",
       "      <td>0</td>\n",
       "      <td>Not Graduate</td>\n",
       "      <td>No</td>\n",
       "      <td>2333</td>\n",
       "      <td>1516.0</td>\n",
       "      <td>95.0</td>\n",
       "      <td>360.0</td>\n",
       "      <td>1.0</td>\n",
       "      <td>Urban</td>\n",
       "      <td>Y</td>\n",
       "    </tr>\n",
       "    <tr>\n",
       "      <th>7</th>\n",
       "      <td>LP001014</td>\n",
       "      <td>Male</td>\n",
       "      <td>Yes</td>\n",
       "      <td>3+</td>\n",
       "      <td>Graduate</td>\n",
       "      <td>No</td>\n",
       "      <td>3036</td>\n",
       "      <td>2504.0</td>\n",
       "      <td>158.0</td>\n",
       "      <td>360.0</td>\n",
       "      <td>0.0</td>\n",
       "      <td>Semiurban</td>\n",
       "      <td>N</td>\n",
       "    </tr>\n",
       "    <tr>\n",
       "      <th>8</th>\n",
       "      <td>LP001018</td>\n",
       "      <td>Male</td>\n",
       "      <td>Yes</td>\n",
       "      <td>2</td>\n",
       "      <td>Graduate</td>\n",
       "      <td>No</td>\n",
       "      <td>4006</td>\n",
       "      <td>1526.0</td>\n",
       "      <td>168.0</td>\n",
       "      <td>360.0</td>\n",
       "      <td>1.0</td>\n",
       "      <td>Urban</td>\n",
       "      <td>Y</td>\n",
       "    </tr>\n",
       "    <tr>\n",
       "      <th>9</th>\n",
       "      <td>LP001020</td>\n",
       "      <td>Male</td>\n",
       "      <td>Yes</td>\n",
       "      <td>1</td>\n",
       "      <td>Graduate</td>\n",
       "      <td>No</td>\n",
       "      <td>12841</td>\n",
       "      <td>10968.0</td>\n",
       "      <td>349.0</td>\n",
       "      <td>360.0</td>\n",
       "      <td>1.0</td>\n",
       "      <td>Semiurban</td>\n",
       "      <td>N</td>\n",
       "    </tr>\n",
       "  </tbody>\n",
       "</table>\n",
       "</div>"
      ],
      "text/plain": [
       "    Loan_ID Gender Married Dependents     Education Self_Employed  \\\n",
       "0  LP001002   Male      No          0      Graduate            No   \n",
       "1  LP001003   Male     Yes          1      Graduate            No   \n",
       "2  LP001005   Male     Yes          0      Graduate           Yes   \n",
       "3  LP001006   Male     Yes          0  Not Graduate            No   \n",
       "4  LP001008   Male      No          0      Graduate            No   \n",
       "5  LP001011   Male     Yes          2      Graduate           Yes   \n",
       "6  LP001013   Male     Yes          0  Not Graduate            No   \n",
       "7  LP001014   Male     Yes         3+      Graduate            No   \n",
       "8  LP001018   Male     Yes          2      Graduate            No   \n",
       "9  LP001020   Male     Yes          1      Graduate            No   \n",
       "\n",
       "   ApplicantIncome  CoapplicantIncome  LoanAmount  Loan_Amount_Term  \\\n",
       "0             5849                0.0         NaN             360.0   \n",
       "1             4583             1508.0       128.0             360.0   \n",
       "2             3000                0.0        66.0             360.0   \n",
       "3             2583             2358.0       120.0             360.0   \n",
       "4             6000                0.0       141.0             360.0   \n",
       "5             5417             4196.0       267.0             360.0   \n",
       "6             2333             1516.0        95.0             360.0   \n",
       "7             3036             2504.0       158.0             360.0   \n",
       "8             4006             1526.0       168.0             360.0   \n",
       "9            12841            10968.0       349.0             360.0   \n",
       "\n",
       "   Credit_History Property_Area Loan_Status  \n",
       "0             1.0         Urban           Y  \n",
       "1             1.0         Rural           N  \n",
       "2             1.0         Urban           Y  \n",
       "3             1.0         Urban           Y  \n",
       "4             1.0         Urban           Y  \n",
       "5             1.0         Urban           Y  \n",
       "6             1.0         Urban           Y  \n",
       "7             0.0     Semiurban           N  \n",
       "8             1.0         Urban           Y  \n",
       "9             1.0     Semiurban           N  "
      ]
     },
     "execution_count": 4,
     "metadata": {},
     "output_type": "execute_result"
    }
   ],
   "source": [
    "'''\n",
    "Show the data has been loaded successfully into the data frame \n",
    "by printing the first 10 rows with head().\n",
    "'''\n",
    "df.head(10)"
   ]
  },
  {
   "cell_type": "code",
   "execution_count": 5,
   "id": "aaf837f0",
   "metadata": {},
   "outputs": [
    {
     "name": "stdout",
     "output_type": "stream",
     "text": [
      "There are 614 rows and 13 columns in this data frame.\n"
     ]
    }
   ],
   "source": [
    "'''\n",
    "Understand the shape of the data frame.\n",
    "'''\n",
    "print('There are {} rows and {} columns in this data frame.'.format(df.shape[0], df.shape[1]))"
   ]
  },
  {
   "cell_type": "code",
   "execution_count": 6,
   "id": "8348d65a",
   "metadata": {},
   "outputs": [
    {
     "name": "stdout",
     "output_type": "stream",
     "text": [
      "This data frame contains 7982 records.\n"
     ]
    }
   ],
   "source": [
    "'''\n",
    "Display the total size of this data frame.\n",
    "'''\n",
    "print('This data frame contains {} records.'.format(df.size))"
   ]
  },
  {
   "cell_type": "code",
   "execution_count": 7,
   "id": "59ebdd62",
   "metadata": {},
   "outputs": [
    {
     "data": {
      "text/plain": [
       "Loan_ID               object\n",
       "Gender                object\n",
       "Married               object\n",
       "Dependents            object\n",
       "Education             object\n",
       "Self_Employed         object\n",
       "ApplicantIncome        int64\n",
       "CoapplicantIncome    float64\n",
       "LoanAmount           float64\n",
       "Loan_Amount_Term     float64\n",
       "Credit_History       float64\n",
       "Property_Area         object\n",
       "Loan_Status           object\n",
       "dtype: object"
      ]
     },
     "execution_count": 7,
     "metadata": {},
     "output_type": "execute_result"
    }
   ],
   "source": [
    "'''\n",
    "Find the type of data within each column initially.\n",
    "'''\n",
    "df.dtypes"
   ]
  },
  {
   "cell_type": "code",
   "execution_count": 8,
   "id": "0b8e30fd",
   "metadata": {},
   "outputs": [
    {
     "data": {
      "text/plain": [
       "Credit_History       50\n",
       "Self_Employed        32\n",
       "LoanAmount           22\n",
       "Dependents           15\n",
       "Loan_Amount_Term     14\n",
       "Gender               13\n",
       "Married               3\n",
       "Loan_ID               0\n",
       "Education             0\n",
       "ApplicantIncome       0\n",
       "CoapplicantIncome     0\n",
       "Property_Area         0\n",
       "Loan_Status           0\n",
       "dtype: int64"
      ]
     },
     "execution_count": 8,
     "metadata": {},
     "output_type": "execute_result"
    }
   ],
   "source": [
    "'''\n",
    "Understand if there are any missing values in the data frame.\n",
    "'''\n",
    "df.isna().sum().sort_values(ascending = False)"
   ]
  },
  {
   "cell_type": "code",
   "execution_count": 9,
   "id": "a235eb6e",
   "metadata": {},
   "outputs": [
    {
     "data": {
      "text/plain": [
       "149"
      ]
     },
     "execution_count": 9,
     "metadata": {},
     "output_type": "execute_result"
    }
   ],
   "source": [
    "'''\n",
    "Understand how many missing values are in the dataset initially.\n",
    "'''\n",
    "df.isna().sum().sum()"
   ]
  },
  {
   "cell_type": "markdown",
   "id": "cc64c0ec",
   "metadata": {},
   "source": [
    "### Part 2 - Prepare the data for modeling by performing the following steps: <br>\n",
    "$\\bullet$ Drop the column “Loan_ID.”<br>\n",
    "$\\bullet$ Drop any rows with missing data. <br>\n",
    "$\\bullet$ Convert the categorical features into dummy variables. <br>"
   ]
  },
  {
   "cell_type": "code",
   "execution_count": 10,
   "id": "5a2bf599",
   "metadata": {},
   "outputs": [],
   "source": [
    "'''\n",
    "Drop the column Loan_ID with drop().\n",
    "'''\n",
    "df.drop('Loan_ID', axis =1, inplace = True)"
   ]
  },
  {
   "cell_type": "code",
   "execution_count": 11,
   "id": "60887daa",
   "metadata": {},
   "outputs": [],
   "source": [
    "'''\n",
    "Drop any rows with missing data with dropna().\n",
    "'''\n",
    "df.dropna(how = \"any\", axis = 0, inplace = True)"
   ]
  },
  {
   "cell_type": "code",
   "execution_count": 12,
   "id": "76636116",
   "metadata": {},
   "outputs": [
    {
     "name": "stdout",
     "output_type": "stream",
     "text": [
      "['Gender', 'Married', 'Dependents', 'Education', 'Self_Employed', 'Property_Area', 'Loan_Status']\n"
     ]
    }
   ],
   "source": [
    "'''\n",
    "Identify all the categorical columns in the dataframe.  \n",
    "'''\n",
    "category_columns = df.select_dtypes(include = 'object').columns.tolist()\n",
    "print(category_columns)"
   ]
  },
  {
   "cell_type": "code",
   "execution_count": 13,
   "id": "69978ef1",
   "metadata": {},
   "outputs": [],
   "source": [
    "'''\n",
    "Convert the categorical features into dummy variables with get_dummies().\n",
    "'''\n",
    "df = pd.get_dummies(df, columns = category_columns)"
   ]
  },
  {
   "cell_type": "code",
   "execution_count": 14,
   "id": "292589fa",
   "metadata": {},
   "outputs": [
    {
     "name": "stdout",
     "output_type": "stream",
     "text": [
      "There are 480 rows and 22 columns in this data frame.\n"
     ]
    }
   ],
   "source": [
    "'''\n",
    "Understand the shape of the dataframe after dropping Loan_ID Column, rows with any missing data, and converting categorical\n",
    "features into dummy variables.\n",
    "'''\n",
    "print('There are {} rows and {} columns in this data frame.'.format(df.shape[0], df.shape[1]))"
   ]
  },
  {
   "cell_type": "code",
   "execution_count": 15,
   "id": "35cde874",
   "metadata": {},
   "outputs": [
    {
     "data": {
      "text/plain": [
       "ApplicantIncome            0\n",
       "CoapplicantIncome          0\n",
       "Loan_Status_N              0\n",
       "Property_Area_Urban        0\n",
       "Property_Area_Semiurban    0\n",
       "Property_Area_Rural        0\n",
       "Self_Employed_Yes          0\n",
       "Self_Employed_No           0\n",
       "Education_Not Graduate     0\n",
       "Education_Graduate         0\n",
       "Dependents_3+              0\n",
       "Dependents_2               0\n",
       "Dependents_1               0\n",
       "Dependents_0               0\n",
       "Married_Yes                0\n",
       "Married_No                 0\n",
       "Gender_Male                0\n",
       "Gender_Female              0\n",
       "Credit_History             0\n",
       "Loan_Amount_Term           0\n",
       "LoanAmount                 0\n",
       "Loan_Status_Y              0\n",
       "dtype: int64"
      ]
     },
     "execution_count": 15,
     "metadata": {},
     "output_type": "execute_result"
    }
   ],
   "source": [
    "'''\n",
    "Understand any missing values in the data frame after dropping the values\n",
    "and creating the dummy variables.\n",
    "'''\n",
    "df.isna().sum().sort_values(ascending = False)"
   ]
  },
  {
   "cell_type": "code",
   "execution_count": 16,
   "id": "c4046030",
   "metadata": {},
   "outputs": [
    {
     "data": {
      "text/html": [
       "<div>\n",
       "<style scoped>\n",
       "    .dataframe tbody tr th:only-of-type {\n",
       "        vertical-align: middle;\n",
       "    }\n",
       "\n",
       "    .dataframe tbody tr th {\n",
       "        vertical-align: top;\n",
       "    }\n",
       "\n",
       "    .dataframe thead th {\n",
       "        text-align: right;\n",
       "    }\n",
       "</style>\n",
       "<table border=\"1\" class=\"dataframe\">\n",
       "  <thead>\n",
       "    <tr style=\"text-align: right;\">\n",
       "      <th></th>\n",
       "      <th>ApplicantIncome</th>\n",
       "      <th>CoapplicantIncome</th>\n",
       "      <th>LoanAmount</th>\n",
       "      <th>Loan_Amount_Term</th>\n",
       "      <th>Credit_History</th>\n",
       "      <th>Gender_Female</th>\n",
       "      <th>Gender_Male</th>\n",
       "      <th>Married_No</th>\n",
       "      <th>Married_Yes</th>\n",
       "      <th>Dependents_0</th>\n",
       "      <th>...</th>\n",
       "      <th>Dependents_3+</th>\n",
       "      <th>Education_Graduate</th>\n",
       "      <th>Education_Not Graduate</th>\n",
       "      <th>Self_Employed_No</th>\n",
       "      <th>Self_Employed_Yes</th>\n",
       "      <th>Property_Area_Rural</th>\n",
       "      <th>Property_Area_Semiurban</th>\n",
       "      <th>Property_Area_Urban</th>\n",
       "      <th>Loan_Status_N</th>\n",
       "      <th>Loan_Status_Y</th>\n",
       "    </tr>\n",
       "  </thead>\n",
       "  <tbody>\n",
       "    <tr>\n",
       "      <th>1</th>\n",
       "      <td>4583</td>\n",
       "      <td>1508.0</td>\n",
       "      <td>128.0</td>\n",
       "      <td>360.0</td>\n",
       "      <td>1.0</td>\n",
       "      <td>0</td>\n",
       "      <td>1</td>\n",
       "      <td>0</td>\n",
       "      <td>1</td>\n",
       "      <td>0</td>\n",
       "      <td>...</td>\n",
       "      <td>0</td>\n",
       "      <td>1</td>\n",
       "      <td>0</td>\n",
       "      <td>1</td>\n",
       "      <td>0</td>\n",
       "      <td>1</td>\n",
       "      <td>0</td>\n",
       "      <td>0</td>\n",
       "      <td>1</td>\n",
       "      <td>0</td>\n",
       "    </tr>\n",
       "    <tr>\n",
       "      <th>2</th>\n",
       "      <td>3000</td>\n",
       "      <td>0.0</td>\n",
       "      <td>66.0</td>\n",
       "      <td>360.0</td>\n",
       "      <td>1.0</td>\n",
       "      <td>0</td>\n",
       "      <td>1</td>\n",
       "      <td>0</td>\n",
       "      <td>1</td>\n",
       "      <td>1</td>\n",
       "      <td>...</td>\n",
       "      <td>0</td>\n",
       "      <td>1</td>\n",
       "      <td>0</td>\n",
       "      <td>0</td>\n",
       "      <td>1</td>\n",
       "      <td>0</td>\n",
       "      <td>0</td>\n",
       "      <td>1</td>\n",
       "      <td>0</td>\n",
       "      <td>1</td>\n",
       "    </tr>\n",
       "    <tr>\n",
       "      <th>3</th>\n",
       "      <td>2583</td>\n",
       "      <td>2358.0</td>\n",
       "      <td>120.0</td>\n",
       "      <td>360.0</td>\n",
       "      <td>1.0</td>\n",
       "      <td>0</td>\n",
       "      <td>1</td>\n",
       "      <td>0</td>\n",
       "      <td>1</td>\n",
       "      <td>1</td>\n",
       "      <td>...</td>\n",
       "      <td>0</td>\n",
       "      <td>0</td>\n",
       "      <td>1</td>\n",
       "      <td>1</td>\n",
       "      <td>0</td>\n",
       "      <td>0</td>\n",
       "      <td>0</td>\n",
       "      <td>1</td>\n",
       "      <td>0</td>\n",
       "      <td>1</td>\n",
       "    </tr>\n",
       "    <tr>\n",
       "      <th>4</th>\n",
       "      <td>6000</td>\n",
       "      <td>0.0</td>\n",
       "      <td>141.0</td>\n",
       "      <td>360.0</td>\n",
       "      <td>1.0</td>\n",
       "      <td>0</td>\n",
       "      <td>1</td>\n",
       "      <td>1</td>\n",
       "      <td>0</td>\n",
       "      <td>1</td>\n",
       "      <td>...</td>\n",
       "      <td>0</td>\n",
       "      <td>1</td>\n",
       "      <td>0</td>\n",
       "      <td>1</td>\n",
       "      <td>0</td>\n",
       "      <td>0</td>\n",
       "      <td>0</td>\n",
       "      <td>1</td>\n",
       "      <td>0</td>\n",
       "      <td>1</td>\n",
       "    </tr>\n",
       "    <tr>\n",
       "      <th>5</th>\n",
       "      <td>5417</td>\n",
       "      <td>4196.0</td>\n",
       "      <td>267.0</td>\n",
       "      <td>360.0</td>\n",
       "      <td>1.0</td>\n",
       "      <td>0</td>\n",
       "      <td>1</td>\n",
       "      <td>0</td>\n",
       "      <td>1</td>\n",
       "      <td>0</td>\n",
       "      <td>...</td>\n",
       "      <td>0</td>\n",
       "      <td>1</td>\n",
       "      <td>0</td>\n",
       "      <td>0</td>\n",
       "      <td>1</td>\n",
       "      <td>0</td>\n",
       "      <td>0</td>\n",
       "      <td>1</td>\n",
       "      <td>0</td>\n",
       "      <td>1</td>\n",
       "    </tr>\n",
       "    <tr>\n",
       "      <th>6</th>\n",
       "      <td>2333</td>\n",
       "      <td>1516.0</td>\n",
       "      <td>95.0</td>\n",
       "      <td>360.0</td>\n",
       "      <td>1.0</td>\n",
       "      <td>0</td>\n",
       "      <td>1</td>\n",
       "      <td>0</td>\n",
       "      <td>1</td>\n",
       "      <td>1</td>\n",
       "      <td>...</td>\n",
       "      <td>0</td>\n",
       "      <td>0</td>\n",
       "      <td>1</td>\n",
       "      <td>1</td>\n",
       "      <td>0</td>\n",
       "      <td>0</td>\n",
       "      <td>0</td>\n",
       "      <td>1</td>\n",
       "      <td>0</td>\n",
       "      <td>1</td>\n",
       "    </tr>\n",
       "    <tr>\n",
       "      <th>7</th>\n",
       "      <td>3036</td>\n",
       "      <td>2504.0</td>\n",
       "      <td>158.0</td>\n",
       "      <td>360.0</td>\n",
       "      <td>0.0</td>\n",
       "      <td>0</td>\n",
       "      <td>1</td>\n",
       "      <td>0</td>\n",
       "      <td>1</td>\n",
       "      <td>0</td>\n",
       "      <td>...</td>\n",
       "      <td>1</td>\n",
       "      <td>1</td>\n",
       "      <td>0</td>\n",
       "      <td>1</td>\n",
       "      <td>0</td>\n",
       "      <td>0</td>\n",
       "      <td>1</td>\n",
       "      <td>0</td>\n",
       "      <td>1</td>\n",
       "      <td>0</td>\n",
       "    </tr>\n",
       "    <tr>\n",
       "      <th>8</th>\n",
       "      <td>4006</td>\n",
       "      <td>1526.0</td>\n",
       "      <td>168.0</td>\n",
       "      <td>360.0</td>\n",
       "      <td>1.0</td>\n",
       "      <td>0</td>\n",
       "      <td>1</td>\n",
       "      <td>0</td>\n",
       "      <td>1</td>\n",
       "      <td>0</td>\n",
       "      <td>...</td>\n",
       "      <td>0</td>\n",
       "      <td>1</td>\n",
       "      <td>0</td>\n",
       "      <td>1</td>\n",
       "      <td>0</td>\n",
       "      <td>0</td>\n",
       "      <td>0</td>\n",
       "      <td>1</td>\n",
       "      <td>0</td>\n",
       "      <td>1</td>\n",
       "    </tr>\n",
       "    <tr>\n",
       "      <th>9</th>\n",
       "      <td>12841</td>\n",
       "      <td>10968.0</td>\n",
       "      <td>349.0</td>\n",
       "      <td>360.0</td>\n",
       "      <td>1.0</td>\n",
       "      <td>0</td>\n",
       "      <td>1</td>\n",
       "      <td>0</td>\n",
       "      <td>1</td>\n",
       "      <td>0</td>\n",
       "      <td>...</td>\n",
       "      <td>0</td>\n",
       "      <td>1</td>\n",
       "      <td>0</td>\n",
       "      <td>1</td>\n",
       "      <td>0</td>\n",
       "      <td>0</td>\n",
       "      <td>1</td>\n",
       "      <td>0</td>\n",
       "      <td>1</td>\n",
       "      <td>0</td>\n",
       "    </tr>\n",
       "    <tr>\n",
       "      <th>10</th>\n",
       "      <td>3200</td>\n",
       "      <td>700.0</td>\n",
       "      <td>70.0</td>\n",
       "      <td>360.0</td>\n",
       "      <td>1.0</td>\n",
       "      <td>0</td>\n",
       "      <td>1</td>\n",
       "      <td>0</td>\n",
       "      <td>1</td>\n",
       "      <td>0</td>\n",
       "      <td>...</td>\n",
       "      <td>0</td>\n",
       "      <td>1</td>\n",
       "      <td>0</td>\n",
       "      <td>1</td>\n",
       "      <td>0</td>\n",
       "      <td>0</td>\n",
       "      <td>0</td>\n",
       "      <td>1</td>\n",
       "      <td>0</td>\n",
       "      <td>1</td>\n",
       "    </tr>\n",
       "  </tbody>\n",
       "</table>\n",
       "<p>10 rows × 22 columns</p>\n",
       "</div>"
      ],
      "text/plain": [
       "    ApplicantIncome  CoapplicantIncome  LoanAmount  Loan_Amount_Term  \\\n",
       "1              4583             1508.0       128.0             360.0   \n",
       "2              3000                0.0        66.0             360.0   \n",
       "3              2583             2358.0       120.0             360.0   \n",
       "4              6000                0.0       141.0             360.0   \n",
       "5              5417             4196.0       267.0             360.0   \n",
       "6              2333             1516.0        95.0             360.0   \n",
       "7              3036             2504.0       158.0             360.0   \n",
       "8              4006             1526.0       168.0             360.0   \n",
       "9             12841            10968.0       349.0             360.0   \n",
       "10             3200              700.0        70.0             360.0   \n",
       "\n",
       "    Credit_History  Gender_Female  Gender_Male  Married_No  Married_Yes  \\\n",
       "1              1.0              0            1           0            1   \n",
       "2              1.0              0            1           0            1   \n",
       "3              1.0              0            1           0            1   \n",
       "4              1.0              0            1           1            0   \n",
       "5              1.0              0            1           0            1   \n",
       "6              1.0              0            1           0            1   \n",
       "7              0.0              0            1           0            1   \n",
       "8              1.0              0            1           0            1   \n",
       "9              1.0              0            1           0            1   \n",
       "10             1.0              0            1           0            1   \n",
       "\n",
       "    Dependents_0  ...  Dependents_3+  Education_Graduate  \\\n",
       "1              0  ...              0                   1   \n",
       "2              1  ...              0                   1   \n",
       "3              1  ...              0                   0   \n",
       "4              1  ...              0                   1   \n",
       "5              0  ...              0                   1   \n",
       "6              1  ...              0                   0   \n",
       "7              0  ...              1                   1   \n",
       "8              0  ...              0                   1   \n",
       "9              0  ...              0                   1   \n",
       "10             0  ...              0                   1   \n",
       "\n",
       "    Education_Not Graduate  Self_Employed_No  Self_Employed_Yes  \\\n",
       "1                        0                 1                  0   \n",
       "2                        0                 0                  1   \n",
       "3                        1                 1                  0   \n",
       "4                        0                 1                  0   \n",
       "5                        0                 0                  1   \n",
       "6                        1                 1                  0   \n",
       "7                        0                 1                  0   \n",
       "8                        0                 1                  0   \n",
       "9                        0                 1                  0   \n",
       "10                       0                 1                  0   \n",
       "\n",
       "    Property_Area_Rural  Property_Area_Semiurban  Property_Area_Urban  \\\n",
       "1                     1                        0                    0   \n",
       "2                     0                        0                    1   \n",
       "3                     0                        0                    1   \n",
       "4                     0                        0                    1   \n",
       "5                     0                        0                    1   \n",
       "6                     0                        0                    1   \n",
       "7                     0                        1                    0   \n",
       "8                     0                        0                    1   \n",
       "9                     0                        1                    0   \n",
       "10                    0                        0                    1   \n",
       "\n",
       "    Loan_Status_N  Loan_Status_Y  \n",
       "1               1              0  \n",
       "2               0              1  \n",
       "3               0              1  \n",
       "4               0              1  \n",
       "5               0              1  \n",
       "6               0              1  \n",
       "7               1              0  \n",
       "8               0              1  \n",
       "9               1              0  \n",
       "10              0              1  \n",
       "\n",
       "[10 rows x 22 columns]"
      ]
     },
     "execution_count": 16,
     "metadata": {},
     "output_type": "execute_result"
    }
   ],
   "source": [
    "'''\n",
    "View the first ten rows of the data frame.\n",
    "'''\n",
    "df.head(10)"
   ]
  },
  {
   "cell_type": "markdown",
   "id": "be293312",
   "metadata": {},
   "source": [
    "### Part 3 - Split the data into a training and test set, where the \"Loan_Status\" column is the target."
   ]
  },
  {
   "cell_type": "code",
   "execution_count": 17,
   "id": "62feeb93",
   "metadata": {},
   "outputs": [],
   "source": [
    "'''\n",
    "Define the target variable as y (Loan_Status_N and Loan_Status_Y) and independent variables as X. \n",
    "'''\n",
    "X = df.drop(['Loan_Status_N','Loan_Status_Y'], axis = 1)\n",
    "y = df[['Loan_Status_N','Loan_Status_Y']]"
   ]
  },
  {
   "cell_type": "code",
   "execution_count": 18,
   "id": "2e63c72e",
   "metadata": {},
   "outputs": [],
   "source": [
    "'''\n",
    "Split the data with train_test_split from sklearn.\n",
    "Use test_size = 0.2 to split the data into 80% training and 20% testing data.\n",
    "'''\n",
    "X_train,X_test,y_train,y_test = train_test_split(X, y, test_size = 0.2, random_state = 42)"
   ]
  },
  {
   "cell_type": "code",
   "execution_count": 19,
   "id": "e0521454",
   "metadata": {},
   "outputs": [
    {
     "name": "stdout",
     "output_type": "stream",
     "text": [
      "The original data set shape was 480 rows and 22 columns.\n",
      "The X_train shape is 384 rows and 20 columns.\n",
      "The y_train shape is 384 rows and 2 columns.\n",
      "The X_test shape is 96 rows and 20 columns.\n",
      "The y_test shape is 96 rows and 2 columns.\n"
     ]
    }
   ],
   "source": [
    "'''\n",
    "Print out the shape of the resulting datasets for training and testing.\n",
    "'''\n",
    "print(\"The original data set shape was {} rows and {} columns.\".format(df.shape[0],df.shape[1]))\n",
    "print(\"The X_train shape is {} rows and {} columns.\".format(X_train.shape[0],X_train.shape[1]))\n",
    "print(\"The y_train shape is {} rows and {} columns.\".format(y_train.shape[0],y_train.shape[1]))\n",
    "print(\"The X_test shape is {} rows and {} columns.\".format(X_test.shape[0],X_test.shape[1]))\n",
    "print(\"The y_test shape is {} rows and {} columns.\".format(y_test.shape[0],y_test.shape[1]))"
   ]
  },
  {
   "cell_type": "markdown",
   "id": "bf60454f",
   "metadata": {},
   "source": [
    "### Part 4 - Create a pipeline with a min-max scaler and a KNN classifier (see section 15.3 in the Machine Learning with Python Cookbook)."
   ]
  },
  {
   "cell_type": "code",
   "execution_count": 20,
   "id": "4ed43543",
   "metadata": {},
   "outputs": [],
   "source": [
    "'''\n",
    "Create the scaler using MinMaxScaler() from sklearn.preprocessing.\n",
    "'''\n",
    "scaler = MinMaxScaler()"
   ]
  },
  {
   "cell_type": "code",
   "execution_count": 21,
   "id": "d50fe60c",
   "metadata": {},
   "outputs": [],
   "source": [
    "'''\n",
    "Create a KNN classifier to put into the pipeline. Chose k=5 for default knn to start out.\n",
    "'''\n",
    "classifier_knn = KNeighborsClassifier(n_neighbors=5, n_jobs = -1)"
   ]
  },
  {
   "cell_type": "code",
   "execution_count": 22,
   "id": "7d2e273c",
   "metadata": {},
   "outputs": [],
   "source": [
    "'''\n",
    "Create the pipeline with the min-max scaler and a KNN classifier.\n",
    "'''\n",
    "pipe = Pipeline([(\"scaler\", scaler), (\"classifier_knn\", classifier_knn)])"
   ]
  },
  {
   "cell_type": "markdown",
   "id": "33460a5c",
   "metadata": {},
   "source": [
    "### Part 5 - Fit a default KNN classifier to the data with this pipeline. Report the model accuracy on the test set. Note: Fitting a pipeline model works just like fitting a regular model."
   ]
  },
  {
   "cell_type": "code",
   "execution_count": 23,
   "id": "398f72b6",
   "metadata": {},
   "outputs": [
    {
     "data": {
      "text/plain": [
       "Pipeline(steps=[('scaler', MinMaxScaler()),\n",
       "                ('classifier_knn', KNeighborsClassifier(n_jobs=-1))])"
      ]
     },
     "execution_count": 23,
     "metadata": {},
     "output_type": "execute_result"
    }
   ],
   "source": [
    "'''\n",
    "Fit the pipe to the training data.\n",
    "'''\n",
    "pipe.fit(X_train, y_train)"
   ]
  },
  {
   "cell_type": "code",
   "execution_count": 24,
   "id": "c22d731f",
   "metadata": {},
   "outputs": [
    {
     "name": "stdout",
     "output_type": "stream",
     "text": [
      "Accuracy Score (k = 5): 78.125%\n"
     ]
    }
   ],
   "source": [
    "'''\n",
    "Determine the accuracy of the default KNN classifier on the test set. Print the results.\n",
    "'''\n",
    "accuracy_score = pipe.score(X_test, y_test)*100\n",
    "print('Accuracy Score (k = 5): {}%'.format(accuracy_score))"
   ]
  },
  {
   "cell_type": "markdown",
   "id": "2f9bd6e7",
   "metadata": {},
   "source": [
    "### Part 6 - Create a search space for your KNN classifier where your “n_neighbors” parameter varies from 1 to 10. (see section 15.3 in the Machine Learning with Python Cookbook)."
   ]
  },
  {
   "cell_type": "code",
   "execution_count": 25,
   "id": "d0229b28",
   "metadata": {},
   "outputs": [],
   "source": [
    "'''\n",
    "Create the search space for the KNN classifier for n_neighbors between 1-10.\n",
    "'''\n",
    "search_space = [{\"classifier_knn__n_neighbors\":[1,2,3,4,5,6,7,8,9,10]}]"
   ]
  },
  {
   "cell_type": "markdown",
   "id": "88fbc6bc",
   "metadata": {},
   "source": [
    "### Part 7 - Fit a grid search with your pipeline, search space, and 5-fold cross-validation to find the best value for the “n_neighbors” parameter."
   ]
  },
  {
   "cell_type": "code",
   "execution_count": 26,
   "id": "8df05a61",
   "metadata": {},
   "outputs": [],
   "source": [
    "'''\n",
    "Create and fit the grid search with the pipeline, search_space, and 5-fold cross-validation.\n",
    "Start by creating the grid search.\n",
    "'''\n",
    "gridsearch = GridSearchCV(pipe, search_space, cv=5, verbose = 0)"
   ]
  },
  {
   "cell_type": "code",
   "execution_count": 27,
   "id": "c4e0ab5e",
   "metadata": {},
   "outputs": [
    {
     "data": {
      "text/plain": [
       "GridSearchCV(cv=5,\n",
       "             estimator=Pipeline(steps=[('scaler', MinMaxScaler()),\n",
       "                                       ('classifier_knn',\n",
       "                                        KNeighborsClassifier(n_jobs=-1))]),\n",
       "             param_grid=[{'classifier_knn__n_neighbors': [1, 2, 3, 4, 5, 6, 7,\n",
       "                                                          8, 9, 10]}])"
      ]
     },
     "execution_count": 27,
     "metadata": {},
     "output_type": "execute_result"
    }
   ],
   "source": [
    "'''\n",
    "Now fit the grid search classifier to the training data.\n",
    "'''\n",
    "gridsearch.fit(X_train, y_train)"
   ]
  },
  {
   "cell_type": "code",
   "execution_count": 29,
   "id": "1038fbb4",
   "metadata": {},
   "outputs": [
    {
     "data": {
      "text/plain": [
       "dict_keys(['algorithm', 'leaf_size', 'metric', 'metric_params', 'n_jobs', 'n_neighbors', 'p', 'weights'])"
      ]
     },
     "execution_count": 29,
     "metadata": {},
     "output_type": "execute_result"
    }
   ],
   "source": [
    "'''\n",
    "Understand what dict_keys are available for the knn classifier with the code below.\n",
    "'''\n",
    "classifier_knn.get_params().keys()"
   ]
  },
  {
   "cell_type": "code",
   "execution_count": 30,
   "id": "aac6ec6d",
   "metadata": {},
   "outputs": [
    {
     "data": {
      "text/plain": [
       "3"
      ]
     },
     "execution_count": 30,
     "metadata": {},
     "output_type": "execute_result"
    }
   ],
   "source": [
    "'''\n",
    "Determine the best neighborhood size (k).\n",
    "'''\n",
    "gridsearch.best_estimator_.get_params()['classifier_knn__n_neighbors']"
   ]
  },
  {
   "cell_type": "markdown",
   "id": "68174c93",
   "metadata": {},
   "source": [
    "A value of k=3 will provide the best model that balnaces bias-variance trade-off."
   ]
  },
  {
   "cell_type": "markdown",
   "id": "1acaa9ad",
   "metadata": {},
   "source": [
    "### Part 8 - Find the accuracy of the grid search best model on the test set. Note: It is possible that this will not be an improvement over the default model, but likely it will be."
   ]
  },
  {
   "cell_type": "code",
   "execution_count": 31,
   "id": "c199b267",
   "metadata": {},
   "outputs": [],
   "source": [
    "'''\n",
    "Find the accuracy of the best model based on k=3.\n",
    "Start by creating a revised KNN classifier to put into the pipeline.\n",
    "'''\n",
    "classifier_knn_2 = KNeighborsClassifier(n_neighbors = 3, n_jobs = -1)"
   ]
  },
  {
   "cell_type": "code",
   "execution_count": 32,
   "id": "b4bec7fb",
   "metadata": {},
   "outputs": [],
   "source": [
    "'''\n",
    "Create the similar pipeline with the min-max scaler and the revised KNN classifier.\n",
    "'''\n",
    "pipe2 = Pipeline([(\"scaler\", scaler), (\"classifier_knn_2\", classifier_knn_2)])"
   ]
  },
  {
   "cell_type": "code",
   "execution_count": 33,
   "id": "d63c1484",
   "metadata": {},
   "outputs": [
    {
     "data": {
      "text/plain": [
       "Pipeline(steps=[('scaler', MinMaxScaler()),\n",
       "                ('classifier_knn_2',\n",
       "                 KNeighborsClassifier(n_jobs=-1, n_neighbors=3))])"
      ]
     },
     "execution_count": 33,
     "metadata": {},
     "output_type": "execute_result"
    }
   ],
   "source": [
    "'''\n",
    "Fit the pipe2 to the training data.\n",
    "'''\n",
    "pipe2.fit(X_train, y_train)"
   ]
  },
  {
   "cell_type": "code",
   "execution_count": 34,
   "id": "78b9cb15",
   "metadata": {},
   "outputs": [
    {
     "name": "stdout",
     "output_type": "stream",
     "text": [
      "Revised KNN Accuracy Score (k=3): 76.04%\n"
     ]
    }
   ],
   "source": [
    "'''\n",
    "Determine the accuracy of the revised KNN classifier on the test set. Print the results.\n",
    "'''\n",
    "accuracy_score2 = round(pipe2.score(X_test, y_test)*100,2)\n",
    "print('Revised KNN Accuracy Score (k=3): {}%'.format(accuracy_score2))"
   ]
  },
  {
   "cell_type": "markdown",
   "id": "4ced07b8",
   "metadata": {},
   "source": [
    "### Part 9 - Now, repeat steps 6 and 7 with the same pipeline, but expand your search space to include logistic regression and random forest models with the hyperparameter values in section 12.3 of the Machine Learning with Python Cookbook."
   ]
  },
  {
   "cell_type": "code",
   "execution_count": 35,
   "id": "24f6a087",
   "metadata": {},
   "outputs": [],
   "source": [
    "'''\n",
    "Create the same pipeline as previously used.Define the knn, logistic regrssion and random forest models.\n",
    "'''\n",
    "classifier = KNeighborsClassifier()\n",
    "pipe3 = Pipeline([('scaler', MinMaxScaler()), ('classifier', classifier)])"
   ]
  },
  {
   "cell_type": "code",
   "execution_count": 36,
   "id": "77d5b7ff",
   "metadata": {},
   "outputs": [],
   "source": [
    "'''\n",
    "Create a dictionary with the learning algorithms and hyperparameters.\n",
    "'''\n",
    "search_space_2 = [{'classifier' : [KNeighborsClassifier()],\n",
    "                   'classifier__n_neighbors' : [1, 2, 3, 4, 5, 6, 7, 8, 9, 10]},\n",
    "                  {'classifier' : [LogisticRegression()],\n",
    "                   'classifier__penalty' : ['l1', 'l2'],\n",
    "                  'classifier__C' : np.logspace(0, 4, 10)},\n",
    "                  {'classifier' : [RandomForestClassifier()],\n",
    "                  'classifier__n_estimators' : [10, 100, 1000],\n",
    "                  'classifier__max_features' : [1, 2, 3]}\n",
    "                 ]"
   ]
  },
  {
   "cell_type": "code",
   "execution_count": 37,
   "id": "de2eb265",
   "metadata": {},
   "outputs": [],
   "source": [
    "'''\n",
    "Create the revised grid search. Use the initial pipeline, 5 fold cross-validation, and revised search space.\n",
    "'''\n",
    "gridsearch_2 = GridSearchCV(pipe3,search_space_2,cv=5,verbose=0)"
   ]
  },
  {
   "cell_type": "code",
   "execution_count": 38,
   "id": "5d1ac61b",
   "metadata": {
    "scrolled": true
   },
   "outputs": [],
   "source": [
    "'''\n",
    "Fit the revised grid search.\n",
    "'''\n",
    "best_model = gridsearch_2.fit(X_train,y_train)"
   ]
  },
  {
   "cell_type": "markdown",
   "id": "4e6cf919",
   "metadata": {},
   "source": [
    "### Part 10 - What are the best model and hyperparameters found in the grid search? Find the accuracy of this model on the test set."
   ]
  },
  {
   "cell_type": "code",
   "execution_count": 40,
   "id": "6914e016",
   "metadata": {},
   "outputs": [
    {
     "data": {
      "text/plain": [
       "RandomForestClassifier(max_features=3, n_estimators=1000)"
      ]
     },
     "execution_count": 40,
     "metadata": {},
     "output_type": "execute_result"
    }
   ],
   "source": [
    "'''\n",
    "Show the best model and hyperparameters found in the grid search.\n",
    "'''\n",
    "best_model.best_estimator_.get_params()['classifier']"
   ]
  },
  {
   "cell_type": "code",
   "execution_count": 46,
   "id": "c3daf4c2",
   "metadata": {},
   "outputs": [
    {
     "name": "stdout",
     "output_type": "stream",
     "text": [
      "Best Model Accuracy Score: 82.29% \n",
      "Model(Parameters): RandomForestClassifier(max_features=3, n_estimators=1000)\n"
     ]
    }
   ],
   "source": [
    "'''\n",
    "Determine the accuracy of the best model classifier on the test set. Print the results.\n",
    "'''\n",
    "accuracy_score3 = round(best_model.score(X_test, y_test)*100,2)\n",
    "print('Best Model Accuracy Score: {}% \\n'\n",
    "      'Model(Parameters): {}'.format(accuracy_score3,best_model.best_estimator_.get_params()['classifier']))"
   ]
  },
  {
   "cell_type": "markdown",
   "id": "4df91e5a",
   "metadata": {},
   "source": [
    "### Part 11 - Summarize your results."
   ]
  },
  {
   "cell_type": "markdown",
   "id": "fe4be409",
   "metadata": {},
   "source": [
    "This week's assignment consisted of model selection and hyperparameter tuning. The data set used for this week involved loan data to determine whether a loan would be granted based on several features such as gender, education level, marrital status, income, type of loan, loan term, and more. The main highlights from the analysis are highlighted below:<br>\n",
    "$\\bullet$ The 'Loan_ID' column and rows with missing data were dropped from the initial data set. <br>\n",
    "$\\bullet$ The categorical features were converted into dummy variables. <br>\n",
    "$\\bullet$ Data was split into 80% training and 20% test sub sets. <br>\n",
    "$\\bullet$ Pipeline was created with a Min-Max Scaler and KNN classifier (with k=5). This Pipeline was then fit to the training data and resulted in an accuracy of 78%. <br>\n",
    "$\\bullet$ A grid search was utilized to find the best k-value for the KNN classifier by searching for k-values from 1-10. The best KNN classifier model will have a value of k=3. However, the accuracy of the revised KNN model decreased to 76%. <br>\n",
    "$\\bullet$ The search space was revised to include KNN, Logistic Regression and Random Forest models with hyperparameter values predefined for C, penalty, n_estimators, and max_features for each respective method. (values specified from text, page 214).<br>\n",
    "$\\bullet$ The best model for this data set is Random Forest Classifier with the hyperparameters max_features = 3 and n_estimators = 1000. <br>\n",
    "$\\bullet$ The best Random Forest Classifier model had an accuracy score of 82%. <br>"
   ]
  }
 ],
 "metadata": {
  "kernelspec": {
   "display_name": "Python 3 (ipykernel)",
   "language": "python",
   "name": "python3"
  },
  "language_info": {
   "codemirror_mode": {
    "name": "ipython",
    "version": 3
   },
   "file_extension": ".py",
   "mimetype": "text/x-python",
   "name": "python",
   "nbconvert_exporter": "python",
   "pygments_lexer": "ipython3",
   "version": "3.9.7"
  }
 },
 "nbformat": 4,
 "nbformat_minor": 5
}
